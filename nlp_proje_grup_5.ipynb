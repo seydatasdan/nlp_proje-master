{
 "cells": [
  {
   "cell_type": "code",
   "execution_count": 4,
   "id": "a87a2f19-6db6-47f1-8e32-9cc21e87846d",
   "metadata": {},
   "outputs": [],
   "source": [
    "import pandas as pd\n",
    "import re\n",
    "import snowballstemmer"
   ]
  },
  {
   "cell_type": "code",
   "execution_count": 5,
   "id": "85a95ff9-c636-4be6-a495-79cd30a866e6",
   "metadata": {},
   "outputs": [
    {
     "data": {
      "text/html": [
       "<div>\n",
       "<style scoped>\n",
       "    .dataframe tbody tr th:only-of-type {\n",
       "        vertical-align: middle;\n",
       "    }\n",
       "\n",
       "    .dataframe tbody tr th {\n",
       "        vertical-align: top;\n",
       "    }\n",
       "\n",
       "    .dataframe thead th {\n",
       "        text-align: right;\n",
       "    }\n",
       "</style>\n",
       "<table border=\"1\" class=\"dataframe\">\n",
       "  <thead>\n",
       "    <tr style=\"text-align: right;\">\n",
       "      <th></th>\n",
       "      <th>Text</th>\n",
       "      <th>Label</th>\n",
       "    </tr>\n",
       "  </thead>\n",
       "  <tbody>\n",
       "    <tr>\n",
       "      <th>0</th>\n",
       "      <td>turkcellmüzik biraz daha gelişsin fizy yi tama...</td>\n",
       "      <td>1</td>\n",
       "    </tr>\n",
       "    <tr>\n",
       "      <th>1</th>\n",
       "      <td>hayat paylaşınca güzel...türkcell...</td>\n",
       "      <td>1</td>\n",
       "    </tr>\n",
       "    <tr>\n",
       "      <th>2</th>\n",
       "      <td>superonline varya daha iyi</td>\n",
       "      <td>1</td>\n",
       "    </tr>\n",
       "    <tr>\n",
       "      <th>3</th>\n",
       "      <td>hahaha kanka turkcell bu 4 ceker :d</td>\n",
       "      <td>1</td>\n",
       "    </tr>\n",
       "    <tr>\n",
       "      <th>4</th>\n",
       "      <td>turkcell 3 tl hediye etse bana ne güzel olur =)</td>\n",
       "      <td>1</td>\n",
       "    </tr>\n",
       "    <tr>\n",
       "      <th>...</th>\n",
       "      <td>...</td>\n",
       "      <td>...</td>\n",
       "    </tr>\n",
       "    <tr>\n",
       "      <th>2995</th>\n",
       "      <td>gördüğüm en adi şerefsiz kurumsunuz</td>\n",
       "      <td>2</td>\n",
       "    </tr>\n",
       "    <tr>\n",
       "      <th>2996</th>\n",
       "      <td>#turkcell seni de ben boykot edicem.</td>\n",
       "      <td>2</td>\n",
       "    </tr>\n",
       "    <tr>\n",
       "      <th>2997</th>\n",
       "      <td>diğer hatların çekmediği yerde çeken her hattı...</td>\n",
       "      <td>2</td>\n",
       "    </tr>\n",
       "    <tr>\n",
       "      <th>2998</th>\n",
       "      <td>sanirim 3g baglanti sorunu var, surekli edge o...</td>\n",
       "      <td>2</td>\n",
       "    </tr>\n",
       "    <tr>\n",
       "      <th>2999</th>\n",
       "      <td>besiktas metropol subeniz oldukca ukela bu tur...</td>\n",
       "      <td>2</td>\n",
       "    </tr>\n",
       "  </tbody>\n",
       "</table>\n",
       "<p>3000 rows × 2 columns</p>\n",
       "</div>"
      ],
      "text/plain": [
       "                                                   Text  Label\n",
       "0     turkcellmüzik biraz daha gelişsin fizy yi tama...      1\n",
       "1                  hayat paylaşınca güzel...türkcell...      1\n",
       "2                            superonline varya daha iyi      1\n",
       "3                   hahaha kanka turkcell bu 4 ceker :d      1\n",
       "4       turkcell 3 tl hediye etse bana ne güzel olur =)      1\n",
       "...                                                 ...    ...\n",
       "2995                gördüğüm en adi şerefsiz kurumsunuz      2\n",
       "2996               #turkcell seni de ben boykot edicem.      2\n",
       "2997  diğer hatların çekmediği yerde çeken her hattı...      2\n",
       "2998  sanirim 3g baglanti sorunu var, surekli edge o...      2\n",
       "2999  besiktas metropol subeniz oldukca ukela bu tur...      2\n",
       "\n",
       "[3000 rows x 2 columns]"
      ]
     },
     "execution_count": 5,
     "metadata": {},
     "output_type": "execute_result"
    }
   ],
   "source": [
    "df = pd.read_csv(\"data/nlp_proje_metin_siniflandirma.csv\",index_col=0)\n",
    "df"
   ]
  },
  {
   "cell_type": "code",
   "execution_count": 6,
   "id": "cc03b2c6-0255-449d-9f98-6f0d35907c7f",
   "metadata": {},
   "outputs": [
    {
     "data": {
      "text/html": [
       "<div>\n",
       "<style scoped>\n",
       "    .dataframe tbody tr th:only-of-type {\n",
       "        vertical-align: middle;\n",
       "    }\n",
       "\n",
       "    .dataframe tbody tr th {\n",
       "        vertical-align: top;\n",
       "    }\n",
       "\n",
       "    .dataframe thead th {\n",
       "        text-align: right;\n",
       "    }\n",
       "</style>\n",
       "<table border=\"1\" class=\"dataframe\">\n",
       "  <thead>\n",
       "    <tr style=\"text-align: right;\">\n",
       "      <th></th>\n",
       "      <th>Text</th>\n",
       "      <th>Label</th>\n",
       "    </tr>\n",
       "  </thead>\n",
       "  <tbody>\n",
       "    <tr>\n",
       "      <th>0</th>\n",
       "      <td>turkcellmüzik biraz daha gelişsin fizy yi tama...</td>\n",
       "      <td>1</td>\n",
       "    </tr>\n",
       "    <tr>\n",
       "      <th>1</th>\n",
       "      <td>hayat paylaşınca güzel...türkcell...</td>\n",
       "      <td>1</td>\n",
       "    </tr>\n",
       "    <tr>\n",
       "      <th>2</th>\n",
       "      <td>superonline varya daha iyi</td>\n",
       "      <td>1</td>\n",
       "    </tr>\n",
       "    <tr>\n",
       "      <th>3</th>\n",
       "      <td>hahaha kanka turkcell bu 4 ceker :d</td>\n",
       "      <td>1</td>\n",
       "    </tr>\n",
       "    <tr>\n",
       "      <th>4</th>\n",
       "      <td>turkcell 3 tl hediye etse bana ne güzel olur =)</td>\n",
       "      <td>1</td>\n",
       "    </tr>\n",
       "  </tbody>\n",
       "</table>\n",
       "</div>"
      ],
      "text/plain": [
       "                                                Text  Label\n",
       "0  turkcellmüzik biraz daha gelişsin fizy yi tama...      1\n",
       "1               hayat paylaşınca güzel...türkcell...      1\n",
       "2                         superonline varya daha iyi      1\n",
       "3                hahaha kanka turkcell bu 4 ceker :d      1\n",
       "4    turkcell 3 tl hediye etse bana ne güzel olur =)      1"
      ]
     },
     "execution_count": 6,
     "metadata": {},
     "output_type": "execute_result"
    }
   ],
   "source": [
    "df.head()"
   ]
  },
  {
   "cell_type": "code",
   "execution_count": 7,
   "id": "9b0bfbae-cb19-47e6-88da-34b3b61e0d37",
   "metadata": {},
   "outputs": [
    {
     "data": {
      "text/html": [
       "<div>\n",
       "<style scoped>\n",
       "    .dataframe tbody tr th:only-of-type {\n",
       "        vertical-align: middle;\n",
       "    }\n",
       "\n",
       "    .dataframe tbody tr th {\n",
       "        vertical-align: top;\n",
       "    }\n",
       "\n",
       "    .dataframe thead th {\n",
       "        text-align: right;\n",
       "    }\n",
       "</style>\n",
       "<table border=\"1\" class=\"dataframe\">\n",
       "  <thead>\n",
       "    <tr style=\"text-align: right;\">\n",
       "      <th></th>\n",
       "      <th>Text</th>\n",
       "      <th>Label</th>\n",
       "    </tr>\n",
       "  </thead>\n",
       "  <tbody>\n",
       "    <tr>\n",
       "      <th>2995</th>\n",
       "      <td>gördüğüm en adi şerefsiz kurumsunuz</td>\n",
       "      <td>2</td>\n",
       "    </tr>\n",
       "    <tr>\n",
       "      <th>2996</th>\n",
       "      <td>#turkcell seni de ben boykot edicem.</td>\n",
       "      <td>2</td>\n",
       "    </tr>\n",
       "    <tr>\n",
       "      <th>2997</th>\n",
       "      <td>diğer hatların çekmediği yerde çeken her hattı...</td>\n",
       "      <td>2</td>\n",
       "    </tr>\n",
       "    <tr>\n",
       "      <th>2998</th>\n",
       "      <td>sanirim 3g baglanti sorunu var, surekli edge o...</td>\n",
       "      <td>2</td>\n",
       "    </tr>\n",
       "    <tr>\n",
       "      <th>2999</th>\n",
       "      <td>besiktas metropol subeniz oldukca ukela bu tur...</td>\n",
       "      <td>2</td>\n",
       "    </tr>\n",
       "  </tbody>\n",
       "</table>\n",
       "</div>"
      ],
      "text/plain": [
       "                                                   Text  Label\n",
       "2995                gördüğüm en adi şerefsiz kurumsunuz      2\n",
       "2996               #turkcell seni de ben boykot edicem.      2\n",
       "2997  diğer hatların çekmediği yerde çeken her hattı...      2\n",
       "2998  sanirim 3g baglanti sorunu var, surekli edge o...      2\n",
       "2999  besiktas metropol subeniz oldukca ukela bu tur...      2"
      ]
     },
     "execution_count": 7,
     "metadata": {},
     "output_type": "execute_result"
    }
   ],
   "source": [
    "df.tail()"
   ]
  },
  {
   "cell_type": "code",
   "execution_count": 8,
   "id": "a75f548b-78fe-4624-a341-8575c6a131a7",
   "metadata": {},
   "outputs": [],
   "source": [
    "df[\"Text\"] = df[\"Text\"].astype(str)"
   ]
  },
  {
   "cell_type": "code",
   "execution_count": 9,
   "id": "bf02bb79-b49a-4c17-aa5b-56f676ab072e",
   "metadata": {},
   "outputs": [
    {
     "data": {
      "text/plain": [
       "'evde superonline var buraya bekleriz'"
      ]
     },
     "execution_count": 9,
     "metadata": {},
     "output_type": "execute_result"
    }
   ],
   "source": [
    "df.loc[150,\"Text\"]"
   ]
  },
  {
   "cell_type": "code",
   "execution_count": 10,
   "id": "2861ebf4-7fe7-47b4-ae2b-5f8289e578aa",
   "metadata": {},
   "outputs": [
    {
     "name": "stdout",
     "output_type": "stream",
     "text": [
      "Requirement already satisfied: snowballstemmer in c:\\users\\seyda\\miniconda3\\lib\\site-packages (2.2.0)\n",
      "Note: you may need to restart the kernel to use updated packages.\n"
     ]
    }
   ],
   "source": [
    "pip install snowballstemmer"
   ]
  },
  {
   "cell_type": "code",
   "execution_count": 11,
   "id": "6acfd2cb-e818-4244-9be4-a0e145a9a56b",
   "metadata": {},
   "outputs": [],
   "source": [
    "# emojilerin kaldırılması\n",
    "def remove_emoji(value):\n",
    "    bfr=re.compile(\"[\\U00010000-\\U0010ffff]\",flags=re.UNICODE)\n",
    "    bfr=bfr.sub(r'',value)\n",
    "    return bfr"
   ]
  },
  {
   "cell_type": "code",
   "execution_count": 12,
   "id": "71c4b018-fc7a-4c5e-a833-0021db3f8ec8",
   "metadata": {},
   "outputs": [],
   "source": [
    "#linklerin kaldırılması \n",
    "def remove_link(value):\n",
    "    return re.sub('((www\\.[^\\s]+)|(https?://[^\\s]+))','',value)"
   ]
  },
  {
   "cell_type": "code",
   "execution_count": 13,
   "id": "393f0a7e-fbb6-48a2-bca3-ead847e19bf2",
   "metadata": {},
   "outputs": [],
   "source": [
    "# numerik karakterlerin kaldırılması\n",
    "def remove_numeric(value):\n",
    "    bfr= [item for item in value if not item.isdigit()]\n",
    "    bfr = \"\".join(bfr)\n",
    "    return bfr "
   ]
  },
  {
   "cell_type": "code",
   "execution_count": 14,
   "id": "474f0553-9fc6-4e67-ac8a-10ed7e1b2b92",
   "metadata": {},
   "outputs": [],
   "source": [
    "def remove_hashtag(value):\n",
    "    if not isinstance(value, (str, bytes)):\n",
    "        raise TypeError(\"value parametresi bir dize veya bayt benzeri nesne olmalıdır.\")\n",
    "    return re.sub(r'#[^\\s]+', '', value)"
   ]
  },
  {
   "cell_type": "code",
   "execution_count": 15,
   "id": "046fd723-a29e-4fdb-8199-9e4a603ede3f",
   "metadata": {},
   "outputs": [],
   "source": [
    "# hashtaglerin kaldırılması\n",
    "def remove_hashtag(value):\n",
    "    return re.sub(r'#[^\\s]+','',value)"
   ]
  },
  {
   "cell_type": "code",
   "execution_count": 16,
   "id": "15bc2d3a-ad0d-4ed3-85dd-394ce9ce72bb",
   "metadata": {},
   "outputs": [],
   "source": [
    "#noktalama işaretlerinin kaldırılması\n",
    "def remove_noktalama(value):\n",
    "    return re.sub(r'[^\\w\\s]','',value) "
   ]
  },
  {
   "cell_type": "code",
   "execution_count": 17,
   "id": "21a75f17-09ca-4260-893f-0b41d5c07d52",
   "metadata": {},
   "outputs": [],
   "source": [
    "#tek karakterli ifadelerin kaldırılması\n",
    "def remove_single_character(value):\n",
    "    return re.sub(r'(?:^| )\\w(?:$| )','',value)"
   ]
  },
  {
   "cell_type": "code",
   "execution_count": 18,
   "id": "f1fb9262-681a-47a6-afc6-811a4180e5bf",
   "metadata": {},
   "outputs": [],
   "source": [
    "# kullanıcı adlarının kaldırılması\n",
    "def remove_username(value):\n",
    "    return re.sub('@[^\\s]+','',value)"
   ]
  },
  {
   "cell_type": "code",
   "execution_count": 19,
   "id": "112e5d4b-ca82-4c45-9739-db74d40a3e4b",
   "metadata": {},
   "outputs": [],
   "source": [
    "#kök indirgeme ve stop words işlemleri\n",
    "import snowballstemmer\n",
    "def stem_word(value):\n",
    "    stemmer= snowballstemmer.stemmer(\"turkish\")\n",
    "    value = value.lower()\n",
    "    value=stemmer.stemWords(value.split())\n",
    "    stop_words= ['bence','a','acaba','altı','altmış','ama','ancak','arada','artık','asla','aslında','ayrıca','az',\n",
    "                 'bana','bazen','bazı','bile','biraz','bu','bunu','bunun','çoğu','çoğunu','çok','çünkü',\n",
    "                 'da','daha','de','ise','defa','diye','gibi','en','kim','mı','mi','mu','mü','bir','iki',\n",
    "                 'üç','dört','beş','altı','yedi','sekiz','dokuz','on','niçin','niye','şey','siz','şu',\n",
    "                'her','hiç','ve','veya','ya','yani','ne','neden']\n",
    "    value= [item for item in value if not item in stop_words]\n",
    "    value=' ' .join(value)\n",
    "    return value"
   ]
  },
  {
   "cell_type": "code",
   "execution_count": 20,
   "id": "810f96aa-464b-49a0-bdac-0bc5d980c0e1",
   "metadata": {},
   "outputs": [],
   "source": [
    "# ön işlem fonksiyonlarının sırayla çağırılması\n",
    "def pre_processing(value):\n",
    "    return [(remove_emoji(remove_link\n",
    "                          (remove_numeric\n",
    "                           (remove_hashtag\n",
    "                            (remove_noktalama\n",
    "                             (remove_single_character\n",
    "                              (remove_username\n",
    "                               (stem_word(word))))))))) for word in value.split()]"
   ]
  },
  {
   "cell_type": "code",
   "execution_count": 21,
   "id": "25ad2125-47e5-4b77-bcae-a9c6549ef511",
   "metadata": {},
   "outputs": [
    {
     "data": {
      "text/plain": [
       "'evde superonline var buraya bekleriz'"
      ]
     },
     "execution_count": 21,
     "metadata": {},
     "output_type": "execute_result"
    }
   ],
   "source": [
    "df.loc[150,\"Text\"]"
   ]
  },
  {
   "cell_type": "code",
   "execution_count": 22,
   "id": "5f40aad2-60a6-42e1-bdc5-26fbe21bb23b",
   "metadata": {},
   "outputs": [
    {
     "data": {
      "text/html": [
       "<div>\n",
       "<style scoped>\n",
       "    .dataframe tbody tr th:only-of-type {\n",
       "        vertical-align: middle;\n",
       "    }\n",
       "\n",
       "    .dataframe tbody tr th {\n",
       "        vertical-align: top;\n",
       "    }\n",
       "\n",
       "    .dataframe thead th {\n",
       "        text-align: right;\n",
       "    }\n",
       "</style>\n",
       "<table border=\"1\" class=\"dataframe\">\n",
       "  <thead>\n",
       "    <tr style=\"text-align: right;\">\n",
       "      <th></th>\n",
       "      <th>Text</th>\n",
       "      <th>Label</th>\n",
       "      <th>Text_2</th>\n",
       "    </tr>\n",
       "  </thead>\n",
       "  <tbody>\n",
       "    <tr>\n",
       "      <th>0</th>\n",
       "      <td>turkcellmüzik biraz daha gelişsin fizy yi tama...</td>\n",
       "      <td>1</td>\n",
       "      <td>[turkcellmüzik, , dah, geliş, fizy, yi, tamame...</td>\n",
       "    </tr>\n",
       "    <tr>\n",
       "      <th>1</th>\n",
       "      <td>hayat paylaşınca güzel...türkcell...</td>\n",
       "      <td>1</td>\n",
       "      <td>[hayat, paylaş, güzeltürkcell]</td>\n",
       "    </tr>\n",
       "    <tr>\n",
       "      <th>2</th>\n",
       "      <td>superonline varya daha iyi</td>\n",
       "      <td>1</td>\n",
       "      <td>[superonl, varya, dah, ]</td>\n",
       "    </tr>\n",
       "    <tr>\n",
       "      <th>3</th>\n",
       "      <td>hahaha kanka turkcell bu 4 ceker :d</td>\n",
       "      <td>1</td>\n",
       "      <td>[hahah, kanka, turkcell, , , ceker, d]</td>\n",
       "    </tr>\n",
       "    <tr>\n",
       "      <th>4</th>\n",
       "      <td>turkcell 3 tl hediye etse bana ne güzel olur =)</td>\n",
       "      <td>1</td>\n",
       "      <td>[turkcell, , tl, hedi, et, ba, , güzel, olur, ]</td>\n",
       "    </tr>\n",
       "  </tbody>\n",
       "</table>\n",
       "</div>"
      ],
      "text/plain": [
       "                                                Text  Label   \n",
       "0  turkcellmüzik biraz daha gelişsin fizy yi tama...      1  \\\n",
       "1               hayat paylaşınca güzel...türkcell...      1   \n",
       "2                         superonline varya daha iyi      1   \n",
       "3                hahaha kanka turkcell bu 4 ceker :d      1   \n",
       "4    turkcell 3 tl hediye etse bana ne güzel olur =)      1   \n",
       "\n",
       "                                              Text_2  \n",
       "0  [turkcellmüzik, , dah, geliş, fizy, yi, tamame...  \n",
       "1                     [hayat, paylaş, güzeltürkcell]  \n",
       "2                           [superonl, varya, dah, ]  \n",
       "3             [hahah, kanka, turkcell, , , ceker, d]  \n",
       "4    [turkcell, , tl, hedi, et, ba, , güzel, olur, ]  "
      ]
     },
     "execution_count": 22,
     "metadata": {},
     "output_type": "execute_result"
    }
   ],
   "source": [
    "df[\"Text_2\"] = df[\"Text\"].apply(pre_processing)\n",
    "df.head()"
   ]
  },
  {
   "cell_type": "code",
   "execution_count": 23,
   "id": "492854ad-b6e5-424a-8569-9aefe160c5fe",
   "metadata": {},
   "outputs": [
    {
     "data": {
      "text/plain": [
       "['turkcellmüzik',\n",
       " '',\n",
       " 'dah',\n",
       " 'geliş',\n",
       " 'fizy',\n",
       " 'yi',\n",
       " 'tamame',\n",
       " 'bırakıca',\n",
       " 'söz']"
      ]
     },
     "execution_count": 23,
     "metadata": {},
     "output_type": "execute_result"
    }
   ],
   "source": [
    "df.loc[0,\"Text_2\"]"
   ]
  },
  {
   "cell_type": "code",
   "execution_count": 24,
   "id": "53e92220-b31b-4736-93b2-6252fa69bf69",
   "metadata": {},
   "outputs": [],
   "source": [
    "#boşlukların kaldırılması\n",
    "def remove_space(value):\n",
    "    return[item for item in value if item.strip()]\n",
    "\n",
    "df[\"Text_2\"]=df[\"Text_2\"].apply(remove_space) "
   ]
  },
  {
   "cell_type": "code",
   "execution_count": 25,
   "id": "329d9913-b1d2-45d3-919e-a272bf6adc38",
   "metadata": {},
   "outputs": [
    {
     "data": {
      "text/plain": [
       "['turkcellmüzik', 'dah', 'geliş', 'fizy', 'yi', 'tamame', 'bırakıca', 'söz']"
      ]
     },
     "execution_count": 25,
     "metadata": {},
     "output_type": "execute_result"
    }
   ],
   "source": [
    "df.loc[0,\"Text_2\"]"
   ]
  },
  {
   "cell_type": "code",
   "execution_count": 26,
   "id": "a02e1fe9-36e7-4b76-bb0c-f13d32a1ab21",
   "metadata": {},
   "outputs": [
    {
     "data": {
      "text/html": [
       "<div>\n",
       "<style scoped>\n",
       "    .dataframe tbody tr th:only-of-type {\n",
       "        vertical-align: middle;\n",
       "    }\n",
       "\n",
       "    .dataframe tbody tr th {\n",
       "        vertical-align: top;\n",
       "    }\n",
       "\n",
       "    .dataframe thead th {\n",
       "        text-align: right;\n",
       "    }\n",
       "</style>\n",
       "<table border=\"1\" class=\"dataframe\">\n",
       "  <thead>\n",
       "    <tr style=\"text-align: right;\">\n",
       "      <th></th>\n",
       "      <th>Text</th>\n",
       "      <th>Label</th>\n",
       "      <th>Text_2</th>\n",
       "    </tr>\n",
       "  </thead>\n",
       "  <tbody>\n",
       "    <tr>\n",
       "      <th>0</th>\n",
       "      <td>turkcellmüzik biraz daha gelişsin fizy yi tama...</td>\n",
       "      <td>1</td>\n",
       "      <td>[turkcellmüzik, dah, geliş, fizy, yi, tamame, ...</td>\n",
       "    </tr>\n",
       "    <tr>\n",
       "      <th>1</th>\n",
       "      <td>hayat paylaşınca güzel...türkcell...</td>\n",
       "      <td>1</td>\n",
       "      <td>[hayat, paylaş, güzeltürkcell]</td>\n",
       "    </tr>\n",
       "    <tr>\n",
       "      <th>2</th>\n",
       "      <td>superonline varya daha iyi</td>\n",
       "      <td>1</td>\n",
       "      <td>[superonl, varya, dah]</td>\n",
       "    </tr>\n",
       "    <tr>\n",
       "      <th>3</th>\n",
       "      <td>hahaha kanka turkcell bu 4 ceker :d</td>\n",
       "      <td>1</td>\n",
       "      <td>[hahah, kanka, turkcell, ceker, d]</td>\n",
       "    </tr>\n",
       "    <tr>\n",
       "      <th>4</th>\n",
       "      <td>turkcell 3 tl hediye etse bana ne güzel olur =)</td>\n",
       "      <td>1</td>\n",
       "      <td>[turkcell, tl, hedi, et, ba, güzel, olur]</td>\n",
       "    </tr>\n",
       "  </tbody>\n",
       "</table>\n",
       "</div>"
      ],
      "text/plain": [
       "                                                Text  Label   \n",
       "0  turkcellmüzik biraz daha gelişsin fizy yi tama...      1  \\\n",
       "1               hayat paylaşınca güzel...türkcell...      1   \n",
       "2                         superonline varya daha iyi      1   \n",
       "3                hahaha kanka turkcell bu 4 ceker :d      1   \n",
       "4    turkcell 3 tl hediye etse bana ne güzel olur =)      1   \n",
       "\n",
       "                                              Text_2  \n",
       "0  [turkcellmüzik, dah, geliş, fizy, yi, tamame, ...  \n",
       "1                     [hayat, paylaş, güzeltürkcell]  \n",
       "2                             [superonl, varya, dah]  \n",
       "3                 [hahah, kanka, turkcell, ceker, d]  \n",
       "4          [turkcell, tl, hedi, et, ba, güzel, olur]  "
      ]
     },
     "execution_count": 26,
     "metadata": {},
     "output_type": "execute_result"
    }
   ],
   "source": [
    "df.head()"
   ]
  },
  {
   "cell_type": "code",
   "execution_count": 27,
   "id": "9b18427b-448f-42f8-9857-babf09e7e947",
   "metadata": {},
   "outputs": [],
   "source": [
    "import on_islem\n",
    "import pandas as pd\n",
    "from gensim.models import Word2Vec\n",
    "import numpy as np"
   ]
  },
  {
   "cell_type": "code",
   "execution_count": 28,
   "id": "03a96856-2b76-405a-b083-9dbcb19878a2",
   "metadata": {},
   "outputs": [
    {
     "data": {
      "text/html": [
       "<div>\n",
       "<style scoped>\n",
       "    .dataframe tbody tr th:only-of-type {\n",
       "        vertical-align: middle;\n",
       "    }\n",
       "\n",
       "    .dataframe tbody tr th {\n",
       "        vertical-align: top;\n",
       "    }\n",
       "\n",
       "    .dataframe thead th {\n",
       "        text-align: right;\n",
       "    }\n",
       "</style>\n",
       "<table border=\"1\" class=\"dataframe\">\n",
       "  <thead>\n",
       "    <tr style=\"text-align: right;\">\n",
       "      <th></th>\n",
       "      <th>Text</th>\n",
       "      <th>Label</th>\n",
       "    </tr>\n",
       "  </thead>\n",
       "  <tbody>\n",
       "    <tr>\n",
       "      <th>0</th>\n",
       "      <td>turkcellmüzik biraz daha gelişsin fizy yi tama...</td>\n",
       "      <td>1</td>\n",
       "    </tr>\n",
       "    <tr>\n",
       "      <th>1</th>\n",
       "      <td>hayat paylaşınca güzel...türkcell...</td>\n",
       "      <td>1</td>\n",
       "    </tr>\n",
       "    <tr>\n",
       "      <th>2</th>\n",
       "      <td>superonline varya daha iyi</td>\n",
       "      <td>1</td>\n",
       "    </tr>\n",
       "    <tr>\n",
       "      <th>3</th>\n",
       "      <td>hahaha kanka turkcell bu 4 ceker :d</td>\n",
       "      <td>1</td>\n",
       "    </tr>\n",
       "    <tr>\n",
       "      <th>4</th>\n",
       "      <td>turkcell 3 tl hediye etse bana ne güzel olur =)</td>\n",
       "      <td>1</td>\n",
       "    </tr>\n",
       "  </tbody>\n",
       "</table>\n",
       "</div>"
      ],
      "text/plain": [
       "                                                Text  Label\n",
       "0  turkcellmüzik biraz daha gelişsin fizy yi tama...      1\n",
       "1               hayat paylaşınca güzel...türkcell...      1\n",
       "2                         superonline varya daha iyi      1\n",
       "3                hahaha kanka turkcell bu 4 ceker :d      1\n",
       "4    turkcell 3 tl hediye etse bana ne güzel olur =)      1"
      ]
     },
     "execution_count": 28,
     "metadata": {},
     "output_type": "execute_result"
    }
   ],
   "source": [
    "df = pd.read_csv(\"data/nlp_proje_metin_siniflandirma.csv\",index_col=0)\n",
    "df.head()"
   ]
  },
  {
   "cell_type": "code",
   "execution_count": 29,
   "id": "29fd3b2e-9f2f-4dee-82ca-6526231962e5",
   "metadata": {},
   "outputs": [
    {
     "ename": "AttributeError",
     "evalue": "'float' object has no attribute 'split'",
     "output_type": "error",
     "traceback": [
      "\u001b[1;31m---------------------------------------------------------------------------\u001b[0m",
      "\u001b[1;31mAttributeError\u001b[0m                            Traceback (most recent call last)",
      "Cell \u001b[1;32mIn[29], line 1\u001b[0m\n\u001b[1;32m----> 1\u001b[0m df[\u001b[38;5;124m\"\u001b[39m\u001b[38;5;124mText_2\u001b[39m\u001b[38;5;124m\"\u001b[39m] \u001b[38;5;241m=\u001b[39m \u001b[43mdf\u001b[49m\u001b[43m[\u001b[49m\u001b[38;5;124;43m\"\u001b[39;49m\u001b[38;5;124;43mText\u001b[39;49m\u001b[38;5;124;43m\"\u001b[39;49m\u001b[43m]\u001b[49m\u001b[38;5;241;43m.\u001b[39;49m\u001b[43mapply\u001b[49m\u001b[43m(\u001b[49m\u001b[43mon_islem\u001b[49m\u001b[38;5;241;43m.\u001b[39;49m\u001b[43mpre_processing\u001b[49m\u001b[43m)\u001b[49m\n\u001b[0;32m      2\u001b[0m df[\u001b[38;5;124m\"\u001b[39m\u001b[38;5;124mText_2\u001b[39m\u001b[38;5;124m\"\u001b[39m] \u001b[38;5;241m=\u001b[39m df[\u001b[38;5;124m\"\u001b[39m\u001b[38;5;124mText_2\u001b[39m\u001b[38;5;124m\"\u001b[39m]\u001b[38;5;241m.\u001b[39mapply(on_islem\u001b[38;5;241m.\u001b[39mremove_space)\n\u001b[0;32m      3\u001b[0m df\u001b[38;5;241m.\u001b[39mhead()\n",
      "File \u001b[1;32m~\\miniconda3\\lib\\site-packages\\pandas\\core\\series.py:4626\u001b[0m, in \u001b[0;36mSeries.apply\u001b[1;34m(self, func, convert_dtype, args, **kwargs)\u001b[0m\n\u001b[0;32m   4516\u001b[0m \u001b[38;5;28;01mdef\u001b[39;00m \u001b[38;5;21mapply\u001b[39m(\n\u001b[0;32m   4517\u001b[0m     \u001b[38;5;28mself\u001b[39m,\n\u001b[0;32m   4518\u001b[0m     func: AggFuncType,\n\u001b[1;32m   (...)\u001b[0m\n\u001b[0;32m   4521\u001b[0m     \u001b[38;5;241m*\u001b[39m\u001b[38;5;241m*\u001b[39mkwargs,\n\u001b[0;32m   4522\u001b[0m ) \u001b[38;5;241m-\u001b[39m\u001b[38;5;241m>\u001b[39m DataFrame \u001b[38;5;241m|\u001b[39m Series:\n\u001b[0;32m   4523\u001b[0m \u001b[38;5;250m    \u001b[39m\u001b[38;5;124;03m\"\"\"\u001b[39;00m\n\u001b[0;32m   4524\u001b[0m \u001b[38;5;124;03m    Invoke function on values of Series.\u001b[39;00m\n\u001b[0;32m   4525\u001b[0m \n\u001b[1;32m   (...)\u001b[0m\n\u001b[0;32m   4624\u001b[0m \u001b[38;5;124;03m    dtype: float64\u001b[39;00m\n\u001b[0;32m   4625\u001b[0m \u001b[38;5;124;03m    \"\"\"\u001b[39;00m\n\u001b[1;32m-> 4626\u001b[0m     \u001b[38;5;28;01mreturn\u001b[39;00m \u001b[43mSeriesApply\u001b[49m\u001b[43m(\u001b[49m\u001b[38;5;28;43mself\u001b[39;49m\u001b[43m,\u001b[49m\u001b[43m \u001b[49m\u001b[43mfunc\u001b[49m\u001b[43m,\u001b[49m\u001b[43m \u001b[49m\u001b[43mconvert_dtype\u001b[49m\u001b[43m,\u001b[49m\u001b[43m \u001b[49m\u001b[43margs\u001b[49m\u001b[43m,\u001b[49m\u001b[43m \u001b[49m\u001b[43mkwargs\u001b[49m\u001b[43m)\u001b[49m\u001b[38;5;241;43m.\u001b[39;49m\u001b[43mapply\u001b[49m\u001b[43m(\u001b[49m\u001b[43m)\u001b[49m\n",
      "File \u001b[1;32m~\\miniconda3\\lib\\site-packages\\pandas\\core\\apply.py:1025\u001b[0m, in \u001b[0;36mSeriesApply.apply\u001b[1;34m(self)\u001b[0m\n\u001b[0;32m   1022\u001b[0m     \u001b[38;5;28;01mreturn\u001b[39;00m \u001b[38;5;28mself\u001b[39m\u001b[38;5;241m.\u001b[39mapply_str()\n\u001b[0;32m   1024\u001b[0m \u001b[38;5;66;03m# self.f is Callable\u001b[39;00m\n\u001b[1;32m-> 1025\u001b[0m \u001b[38;5;28;01mreturn\u001b[39;00m \u001b[38;5;28;43mself\u001b[39;49m\u001b[38;5;241;43m.\u001b[39;49m\u001b[43mapply_standard\u001b[49m\u001b[43m(\u001b[49m\u001b[43m)\u001b[49m\n",
      "File \u001b[1;32m~\\miniconda3\\lib\\site-packages\\pandas\\core\\apply.py:1076\u001b[0m, in \u001b[0;36mSeriesApply.apply_standard\u001b[1;34m(self)\u001b[0m\n\u001b[0;32m   1074\u001b[0m     \u001b[38;5;28;01melse\u001b[39;00m:\n\u001b[0;32m   1075\u001b[0m         values \u001b[38;5;241m=\u001b[39m obj\u001b[38;5;241m.\u001b[39mastype(\u001b[38;5;28mobject\u001b[39m)\u001b[38;5;241m.\u001b[39m_values\n\u001b[1;32m-> 1076\u001b[0m         mapped \u001b[38;5;241m=\u001b[39m \u001b[43mlib\u001b[49m\u001b[38;5;241;43m.\u001b[39;49m\u001b[43mmap_infer\u001b[49m\u001b[43m(\u001b[49m\n\u001b[0;32m   1077\u001b[0m \u001b[43m            \u001b[49m\u001b[43mvalues\u001b[49m\u001b[43m,\u001b[49m\n\u001b[0;32m   1078\u001b[0m \u001b[43m            \u001b[49m\u001b[43mf\u001b[49m\u001b[43m,\u001b[49m\n\u001b[0;32m   1079\u001b[0m \u001b[43m            \u001b[49m\u001b[43mconvert\u001b[49m\u001b[38;5;241;43m=\u001b[39;49m\u001b[38;5;28;43mself\u001b[39;49m\u001b[38;5;241;43m.\u001b[39;49m\u001b[43mconvert_dtype\u001b[49m\u001b[43m,\u001b[49m\n\u001b[0;32m   1080\u001b[0m \u001b[43m        \u001b[49m\u001b[43m)\u001b[49m\n\u001b[0;32m   1082\u001b[0m \u001b[38;5;28;01mif\u001b[39;00m \u001b[38;5;28mlen\u001b[39m(mapped) \u001b[38;5;129;01mand\u001b[39;00m \u001b[38;5;28misinstance\u001b[39m(mapped[\u001b[38;5;241m0\u001b[39m], ABCSeries):\n\u001b[0;32m   1083\u001b[0m     \u001b[38;5;66;03m# GH#43986 Need to do list(mapped) in order to get treated as nested\u001b[39;00m\n\u001b[0;32m   1084\u001b[0m     \u001b[38;5;66;03m#  See also GH#25959 regarding EA support\u001b[39;00m\n\u001b[0;32m   1085\u001b[0m     \u001b[38;5;28;01mreturn\u001b[39;00m obj\u001b[38;5;241m.\u001b[39m_constructor_expanddim(\u001b[38;5;28mlist\u001b[39m(mapped), index\u001b[38;5;241m=\u001b[39mobj\u001b[38;5;241m.\u001b[39mindex)\n",
      "File \u001b[1;32m~\\miniconda3\\lib\\site-packages\\pandas\\_libs\\lib.pyx:2834\u001b[0m, in \u001b[0;36mpandas._libs.lib.map_infer\u001b[1;34m()\u001b[0m\n",
      "File \u001b[1;32m~\\Downloads\\nl\\nlp_proje-master\\on_islem.py:68\u001b[0m, in \u001b[0;36mpre_processing\u001b[1;34m(value)\u001b[0m\n\u001b[0;32m     61\u001b[0m \u001b[38;5;28;01mdef\u001b[39;00m \u001b[38;5;21mpre_processing\u001b[39m(value):\n\u001b[0;32m     62\u001b[0m     \u001b[38;5;28;01mreturn\u001b[39;00m [remove_numeric(remove_emoji\n\u001b[0;32m     63\u001b[0m                           (remove_single_character\n\u001b[0;32m     64\u001b[0m                            (remove_noktalama\n\u001b[0;32m     65\u001b[0m                             (remove_link\n\u001b[0;32m     66\u001b[0m                              (remove_hashtag\n\u001b[0;32m     67\u001b[0m                               (remove_username\n\u001b[1;32m---> 68\u001b[0m                                (stem_word(word)))))))) \u001b[38;5;28;01mfor\u001b[39;00m word \u001b[38;5;129;01min\u001b[39;00m \u001b[43mvalue\u001b[49m\u001b[38;5;241;43m.\u001b[39;49m\u001b[43msplit\u001b[49m()]\n",
      "\u001b[1;31mAttributeError\u001b[0m: 'float' object has no attribute 'split'"
     ]
    }
   ],
   "source": [
    "df[\"Text_2\"] = df[\"Text\"].apply(on_islem.pre_processing)\n",
    "df[\"Text_2\"] = df[\"Text_2\"].apply(on_islem.remove_space)\n",
    "df.head()"
   ]
  },
  {
   "cell_type": "code",
   "execution_count": 30,
   "id": "5fcec378-5074-4bfc-a327-42f3262d827a",
   "metadata": {},
   "outputs": [
    {
     "name": "stdout",
     "output_type": "stream",
     "text": [
      "Requirement already satisfied: matplotlib in c:\\users\\seyda\\miniconda3\\lib\\site-packages (3.7.1)\n",
      "Requirement already satisfied: contourpy>=1.0.1 in c:\\users\\seyda\\miniconda3\\lib\\site-packages (from matplotlib) (1.0.7)\n",
      "Requirement already satisfied: fonttools>=4.22.0 in c:\\users\\seyda\\miniconda3\\lib\\site-packages (from matplotlib) (4.39.4)\n",
      "Requirement already satisfied: packaging>=20.0 in c:\\users\\seyda\\miniconda3\\lib\\site-packages (from matplotlib) (23.0)\n",
      "Requirement already satisfied: kiwisolver>=1.0.1 in c:\\users\\seyda\\miniconda3\\lib\\site-packages (from matplotlib) (1.4.4)\n",
      "Requirement already satisfied: python-dateutil>=2.7 in c:\\users\\seyda\\miniconda3\\lib\\site-packages (from matplotlib) (2.8.2)\n",
      "Requirement already satisfied: pyparsing>=2.3.1 in c:\\users\\seyda\\miniconda3\\lib\\site-packages (from matplotlib) (3.0.9)\n",
      "Requirement already satisfied: cycler>=0.10 in c:\\users\\seyda\\miniconda3\\lib\\site-packages (from matplotlib) (0.11.0)\n",
      "Requirement already satisfied: numpy>=1.20 in c:\\users\\seyda\\miniconda3\\lib\\site-packages (from matplotlib) (1.24.3)\n",
      "Requirement already satisfied: pillow>=6.2.0 in c:\\users\\seyda\\miniconda3\\lib\\site-packages (from matplotlib) (9.5.0)\n",
      "Requirement already satisfied: six>=1.5 in c:\\users\\seyda\\miniconda3\\lib\\site-packages (from python-dateutil>=2.7->matplotlib) (1.16.0)\n",
      "Note: you may need to restart the kernel to use updated packages.\n"
     ]
    }
   ],
   "source": [
    "pip install matplotlib"
   ]
  },
  {
   "cell_type": "code",
   "execution_count": 31,
   "id": "15b6e0ea-96b2-465c-8c96-287e8e160a46",
   "metadata": {},
   "outputs": [],
   "source": [
    "import matplotlib.pyplot as plt\n",
    "import pandas as pd"
   ]
  },
  {
   "cell_type": "code",
   "execution_count": 32,
   "id": "7d1a7896-8b95-4415-a688-20db7893d215",
   "metadata": {},
   "outputs": [
    {
     "data": {
      "text/html": [
       "<div>\n",
       "<style scoped>\n",
       "    .dataframe tbody tr th:only-of-type {\n",
       "        vertical-align: middle;\n",
       "    }\n",
       "\n",
       "    .dataframe tbody tr th {\n",
       "        vertical-align: top;\n",
       "    }\n",
       "\n",
       "    .dataframe thead th {\n",
       "        text-align: right;\n",
       "    }\n",
       "</style>\n",
       "<table border=\"1\" class=\"dataframe\">\n",
       "  <thead>\n",
       "    <tr style=\"text-align: right;\">\n",
       "      <th></th>\n",
       "      <th>Text</th>\n",
       "      <th>Label</th>\n",
       "    </tr>\n",
       "  </thead>\n",
       "  <tbody>\n",
       "    <tr>\n",
       "      <th>0</th>\n",
       "      <td>turkcellmüzik biraz daha gelişsin fizy yi tama...</td>\n",
       "      <td>1</td>\n",
       "    </tr>\n",
       "    <tr>\n",
       "      <th>1</th>\n",
       "      <td>hayat paylaşınca güzel...türkcell...</td>\n",
       "      <td>1</td>\n",
       "    </tr>\n",
       "    <tr>\n",
       "      <th>2</th>\n",
       "      <td>superonline varya daha iyi</td>\n",
       "      <td>1</td>\n",
       "    </tr>\n",
       "    <tr>\n",
       "      <th>3</th>\n",
       "      <td>hahaha kanka turkcell bu 4 ceker :d</td>\n",
       "      <td>1</td>\n",
       "    </tr>\n",
       "    <tr>\n",
       "      <th>4</th>\n",
       "      <td>turkcell 3 tl hediye etse bana ne güzel olur =)</td>\n",
       "      <td>1</td>\n",
       "    </tr>\n",
       "  </tbody>\n",
       "</table>\n",
       "</div>"
      ],
      "text/plain": [
       "                                                Text  Label\n",
       "0  turkcellmüzik biraz daha gelişsin fizy yi tama...      1\n",
       "1               hayat paylaşınca güzel...türkcell...      1\n",
       "2                         superonline varya daha iyi      1\n",
       "3                hahaha kanka turkcell bu 4 ceker :d      1\n",
       "4    turkcell 3 tl hediye etse bana ne güzel olur =)      1"
      ]
     },
     "execution_count": 32,
     "metadata": {},
     "output_type": "execute_result"
    }
   ],
   "source": [
    "df= pd.read_csv(\"data/nlp_proje_metin_siniflandirma.csv\",index_col=0)\n",
    "df.head()"
   ]
  },
  {
   "cell_type": "code",
   "execution_count": 33,
   "id": "86f7775a-043f-4fd9-9169-57afc6fd51a0",
   "metadata": {},
   "outputs": [],
   "source": [
    "df[\"Text\"] = df[\"Text\"].astype(str)"
   ]
  },
  {
   "cell_type": "code",
   "execution_count": 34,
   "id": "fd3672e6-6494-4db3-b2c8-f3ac44fda1da",
   "metadata": {},
   "outputs": [],
   "source": [
    "import on_islem"
   ]
  },
  {
   "cell_type": "code",
   "execution_count": 35,
   "id": "2b69ce08-e020-4f2f-adea-d36095173a52",
   "metadata": {},
   "outputs": [
    {
     "data": {
      "text/html": [
       "<div>\n",
       "<style scoped>\n",
       "    .dataframe tbody tr th:only-of-type {\n",
       "        vertical-align: middle;\n",
       "    }\n",
       "\n",
       "    .dataframe tbody tr th {\n",
       "        vertical-align: top;\n",
       "    }\n",
       "\n",
       "    .dataframe thead th {\n",
       "        text-align: right;\n",
       "    }\n",
       "</style>\n",
       "<table border=\"1\" class=\"dataframe\">\n",
       "  <thead>\n",
       "    <tr style=\"text-align: right;\">\n",
       "      <th></th>\n",
       "      <th>Text</th>\n",
       "      <th>Label</th>\n",
       "      <th>Text_2</th>\n",
       "    </tr>\n",
       "  </thead>\n",
       "  <tbody>\n",
       "    <tr>\n",
       "      <th>0</th>\n",
       "      <td>turkcellmüzik biraz daha gelişsin fizy yi tama...</td>\n",
       "      <td>1</td>\n",
       "      <td>[turkcellmüzik, dah, geliş, fizy, yi, tamame, ...</td>\n",
       "    </tr>\n",
       "    <tr>\n",
       "      <th>1</th>\n",
       "      <td>hayat paylaşınca güzel...türkcell...</td>\n",
       "      <td>1</td>\n",
       "      <td>[hayat, paylaş, güzeltürkcell]</td>\n",
       "    </tr>\n",
       "    <tr>\n",
       "      <th>2</th>\n",
       "      <td>superonline varya daha iyi</td>\n",
       "      <td>1</td>\n",
       "      <td>[superonl, varya, dah]</td>\n",
       "    </tr>\n",
       "    <tr>\n",
       "      <th>3</th>\n",
       "      <td>hahaha kanka turkcell bu 4 ceker :d</td>\n",
       "      <td>1</td>\n",
       "      <td>[hahah, kanka, turkcell, ceker]</td>\n",
       "    </tr>\n",
       "    <tr>\n",
       "      <th>4</th>\n",
       "      <td>turkcell 3 tl hediye etse bana ne güzel olur =)</td>\n",
       "      <td>1</td>\n",
       "      <td>[turkcell, tl, hedi, et, ba, güzel, olur]</td>\n",
       "    </tr>\n",
       "  </tbody>\n",
       "</table>\n",
       "</div>"
      ],
      "text/plain": [
       "                                                Text  Label   \n",
       "0  turkcellmüzik biraz daha gelişsin fizy yi tama...      1  \\\n",
       "1               hayat paylaşınca güzel...türkcell...      1   \n",
       "2                         superonline varya daha iyi      1   \n",
       "3                hahaha kanka turkcell bu 4 ceker :d      1   \n",
       "4    turkcell 3 tl hediye etse bana ne güzel olur =)      1   \n",
       "\n",
       "                                              Text_2  \n",
       "0  [turkcellmüzik, dah, geliş, fizy, yi, tamame, ...  \n",
       "1                     [hayat, paylaş, güzeltürkcell]  \n",
       "2                             [superonl, varya, dah]  \n",
       "3                    [hahah, kanka, turkcell, ceker]  \n",
       "4          [turkcell, tl, hedi, et, ba, güzel, olur]  "
      ]
     },
     "execution_count": 35,
     "metadata": {},
     "output_type": "execute_result"
    }
   ],
   "source": [
    "df[\"Text_2\"]=df[\"Text\"].apply(on_islem.pre_processing)\n",
    "df[\"Text_2\"]=df[\"Text_2\"].apply(on_islem.remove_space)\n",
    "df.head()"
   ]
  },
  {
   "cell_type": "code",
   "execution_count": 36,
   "id": "e02ab9b3-489e-4233-90b6-b788dbcfd5e7",
   "metadata": {},
   "outputs": [
    {
     "data": {
      "text/html": [
       "<div>\n",
       "<style scoped>\n",
       "    .dataframe tbody tr th:only-of-type {\n",
       "        vertical-align: middle;\n",
       "    }\n",
       "\n",
       "    .dataframe tbody tr th {\n",
       "        vertical-align: top;\n",
       "    }\n",
       "\n",
       "    .dataframe thead th {\n",
       "        text-align: right;\n",
       "    }\n",
       "</style>\n",
       "<table border=\"1\" class=\"dataframe\">\n",
       "  <thead>\n",
       "    <tr style=\"text-align: right;\">\n",
       "      <th></th>\n",
       "      <th>Text</th>\n",
       "      <th>Label</th>\n",
       "      <th>Text_2</th>\n",
       "    </tr>\n",
       "  </thead>\n",
       "  <tbody>\n",
       "    <tr>\n",
       "      <th>1608</th>\n",
       "      <td>:s</td>\n",
       "      <td>3</td>\n",
       "      <td>[]</td>\n",
       "    </tr>\n",
       "    <tr>\n",
       "      <th>2200</th>\n",
       "      <td>#turkcellesavasimvar</td>\n",
       "      <td>2</td>\n",
       "      <td>[]</td>\n",
       "    </tr>\n",
       "  </tbody>\n",
       "</table>\n",
       "</div>"
      ],
      "text/plain": [
       "                      Text  Label Text_2\n",
       "1608                    :s      3     []\n",
       "2200  #turkcellesavasimvar      2     []"
      ]
     },
     "execution_count": 36,
     "metadata": {},
     "output_type": "execute_result"
    }
   ],
   "source": [
    "#boş liste kontrolü\n",
    "df[df[\"Text_2\"].str[0].isnull()]"
   ]
  },
  {
   "cell_type": "code",
   "execution_count": 37,
   "id": "122acfb4-63c3-46f1-b084-bcfa94bf1dfc",
   "metadata": {},
   "outputs": [
    {
     "data": {
      "text/html": [
       "<div>\n",
       "<style scoped>\n",
       "    .dataframe tbody tr th:only-of-type {\n",
       "        vertical-align: middle;\n",
       "    }\n",
       "\n",
       "    .dataframe tbody tr th {\n",
       "        vertical-align: top;\n",
       "    }\n",
       "\n",
       "    .dataframe thead th {\n",
       "        text-align: right;\n",
       "    }\n",
       "</style>\n",
       "<table border=\"1\" class=\"dataframe\">\n",
       "  <thead>\n",
       "    <tr style=\"text-align: right;\">\n",
       "      <th></th>\n",
       "      <th>Text</th>\n",
       "      <th>Label</th>\n",
       "      <th>Text_2</th>\n",
       "    </tr>\n",
       "  </thead>\n",
       "  <tbody>\n",
       "  </tbody>\n",
       "</table>\n",
       "</div>"
      ],
      "text/plain": [
       "Empty DataFrame\n",
       "Columns: [Text, Label, Text_2]\n",
       "Index: []"
      ]
     },
     "execution_count": 37,
     "metadata": {},
     "output_type": "execute_result"
    }
   ],
   "source": [
    "df_index = df[df[\"Text_2\"].str[0].isnull()].index\n",
    "df = df.drop(df_index)\n",
    "df = df.reset_index()\n",
    "del df[\"index\"]\n",
    "df[df[\"Text_2\"].str[0].isnull()]"
   ]
  },
  {
   "cell_type": "code",
   "execution_count": 38,
   "id": "aa29d80d-1b46-4cb3-b482-007dcf688ed4",
   "metadata": {},
   "outputs": [
    {
     "data": {
      "text/plain": [
       "0       [turkcellmüzik, dah, geliş, fizy, yi, tamame, ...\n",
       "1                          [hayat, paylaş, güzeltürkcell]\n",
       "2                                  [superonl, varya, dah]\n",
       "3                         [hahah, kanka, turkcell, ceker]\n",
       "4               [turkcell, tl, hedi, et, ba, güzel, olur]\n",
       "                              ...                        \n",
       "2993                         [gördük, adi, şerefsiz, kur]\n",
       "2994                            [se, ben, boykot, edicem]\n",
       "2995    [diğer, hat, çekmedik, yer, çeke, hat, çektik,...\n",
       "2996    [sanir, g, baglanti, sor, var, surekli, edge, ...\n",
       "2997    [besiktas, metropol, sube, olduk, ukel, turkce...\n",
       "Name: Text_2, Length: 2998, dtype: object"
      ]
     },
     "execution_count": 38,
     "metadata": {},
     "output_type": "execute_result"
    }
   ],
   "source": [
    "df[\"Text_2\"]"
   ]
  },
  {
   "cell_type": "code",
   "execution_count": 39,
   "id": "09f02ac6-661b-4e14-84af-30c40170eeac",
   "metadata": {},
   "outputs": [
    {
     "data": {
      "text/html": [
       "<div>\n",
       "<style scoped>\n",
       "    .dataframe tbody tr th:only-of-type {\n",
       "        vertical-align: middle;\n",
       "    }\n",
       "\n",
       "    .dataframe tbody tr th {\n",
       "        vertical-align: top;\n",
       "    }\n",
       "\n",
       "    .dataframe thead th {\n",
       "        text-align: right;\n",
       "    }\n",
       "</style>\n",
       "<table border=\"1\" class=\"dataframe\">\n",
       "  <thead>\n",
       "    <tr style=\"text-align: right;\">\n",
       "      <th></th>\n",
       "      <th>Text</th>\n",
       "      <th>Label</th>\n",
       "      <th>Text_2</th>\n",
       "      <th>Text_3</th>\n",
       "    </tr>\n",
       "  </thead>\n",
       "  <tbody>\n",
       "    <tr>\n",
       "      <th>0</th>\n",
       "      <td>turkcellmüzik biraz daha gelişsin fizy yi tama...</td>\n",
       "      <td>1</td>\n",
       "      <td>[turkcellmüzik, dah, geliş, fizy, yi, tamame, ...</td>\n",
       "      <td>turkcellmüzik dah geliş fizy yi tamame bırakıc...</td>\n",
       "    </tr>\n",
       "    <tr>\n",
       "      <th>1</th>\n",
       "      <td>hayat paylaşınca güzel...türkcell...</td>\n",
       "      <td>1</td>\n",
       "      <td>[hayat, paylaş, güzeltürkcell]</td>\n",
       "      <td>hayat paylaş güzeltürkcell</td>\n",
       "    </tr>\n",
       "    <tr>\n",
       "      <th>2</th>\n",
       "      <td>superonline varya daha iyi</td>\n",
       "      <td>1</td>\n",
       "      <td>[superonl, varya, dah]</td>\n",
       "      <td>superonl varya dah</td>\n",
       "    </tr>\n",
       "    <tr>\n",
       "      <th>3</th>\n",
       "      <td>hahaha kanka turkcell bu 4 ceker :d</td>\n",
       "      <td>1</td>\n",
       "      <td>[hahah, kanka, turkcell, ceker]</td>\n",
       "      <td>hahah kanka turkcell ceker</td>\n",
       "    </tr>\n",
       "    <tr>\n",
       "      <th>4</th>\n",
       "      <td>turkcell 3 tl hediye etse bana ne güzel olur =)</td>\n",
       "      <td>1</td>\n",
       "      <td>[turkcell, tl, hedi, et, ba, güzel, olur]</td>\n",
       "      <td>turkcell tl hedi et ba güzel olur</td>\n",
       "    </tr>\n",
       "    <tr>\n",
       "      <th>...</th>\n",
       "      <td>...</td>\n",
       "      <td>...</td>\n",
       "      <td>...</td>\n",
       "      <td>...</td>\n",
       "    </tr>\n",
       "    <tr>\n",
       "      <th>2993</th>\n",
       "      <td>gördüğüm en adi şerefsiz kurumsunuz</td>\n",
       "      <td>2</td>\n",
       "      <td>[gördük, adi, şerefsiz, kur]</td>\n",
       "      <td>gördük adi şerefsiz kur</td>\n",
       "    </tr>\n",
       "    <tr>\n",
       "      <th>2994</th>\n",
       "      <td>#turkcell seni de ben boykot edicem.</td>\n",
       "      <td>2</td>\n",
       "      <td>[se, ben, boykot, edicem]</td>\n",
       "      <td>se ben boykot edicem</td>\n",
       "    </tr>\n",
       "    <tr>\n",
       "      <th>2995</th>\n",
       "      <td>diğer hatların çekmediği yerde çeken her hattı...</td>\n",
       "      <td>2</td>\n",
       "      <td>[diğer, hat, çekmedik, yer, çeke, hat, çektik,...</td>\n",
       "      <td>diğer hat çekmedik yer çeke hat çektik yer çek...</td>\n",
       "    </tr>\n",
       "    <tr>\n",
       "      <th>2996</th>\n",
       "      <td>sanirim 3g baglanti sorunu var, surekli edge o...</td>\n",
       "      <td>2</td>\n",
       "      <td>[sanir, g, baglanti, sor, var, surekli, edge, ...</td>\n",
       "      <td>sanir g baglanti sor var surekli edge oluyor i...</td>\n",
       "    </tr>\n",
       "    <tr>\n",
       "      <th>2997</th>\n",
       "      <td>besiktas metropol subeniz oldukca ukela bu tur...</td>\n",
       "      <td>2</td>\n",
       "      <td>[besiktas, metropol, sube, olduk, ukel, turkce...</td>\n",
       "      <td>besiktas metropol sube olduk ukel turkcele hic...</td>\n",
       "    </tr>\n",
       "  </tbody>\n",
       "</table>\n",
       "<p>2998 rows × 4 columns</p>\n",
       "</div>"
      ],
      "text/plain": [
       "                                                   Text  Label   \n",
       "0     turkcellmüzik biraz daha gelişsin fizy yi tama...      1  \\\n",
       "1                  hayat paylaşınca güzel...türkcell...      1   \n",
       "2                            superonline varya daha iyi      1   \n",
       "3                   hahaha kanka turkcell bu 4 ceker :d      1   \n",
       "4       turkcell 3 tl hediye etse bana ne güzel olur =)      1   \n",
       "...                                                 ...    ...   \n",
       "2993                gördüğüm en adi şerefsiz kurumsunuz      2   \n",
       "2994               #turkcell seni de ben boykot edicem.      2   \n",
       "2995  diğer hatların çekmediği yerde çeken her hattı...      2   \n",
       "2996  sanirim 3g baglanti sorunu var, surekli edge o...      2   \n",
       "2997  besiktas metropol subeniz oldukca ukela bu tur...      2   \n",
       "\n",
       "                                                 Text_2   \n",
       "0     [turkcellmüzik, dah, geliş, fizy, yi, tamame, ...  \\\n",
       "1                        [hayat, paylaş, güzeltürkcell]   \n",
       "2                                [superonl, varya, dah]   \n",
       "3                       [hahah, kanka, turkcell, ceker]   \n",
       "4             [turkcell, tl, hedi, et, ba, güzel, olur]   \n",
       "...                                                 ...   \n",
       "2993                       [gördük, adi, şerefsiz, kur]   \n",
       "2994                          [se, ben, boykot, edicem]   \n",
       "2995  [diğer, hat, çekmedik, yer, çeke, hat, çektik,...   \n",
       "2996  [sanir, g, baglanti, sor, var, surekli, edge, ...   \n",
       "2997  [besiktas, metropol, sube, olduk, ukel, turkce...   \n",
       "\n",
       "                                                 Text_3  \n",
       "0     turkcellmüzik dah geliş fizy yi tamame bırakıc...  \n",
       "1                            hayat paylaş güzeltürkcell  \n",
       "2                                    superonl varya dah  \n",
       "3                            hahah kanka turkcell ceker  \n",
       "4                     turkcell tl hedi et ba güzel olur  \n",
       "...                                                 ...  \n",
       "2993                            gördük adi şerefsiz kur  \n",
       "2994                               se ben boykot edicem  \n",
       "2995  diğer hat çekmedik yer çeke hat çektik yer çek...  \n",
       "2996  sanir g baglanti sor var surekli edge oluyor i...  \n",
       "2997  besiktas metropol sube olduk ukel turkcele hic...  \n",
       "\n",
       "[2998 rows x 4 columns]"
      ]
     },
     "execution_count": 39,
     "metadata": {},
     "output_type": "execute_result"
    }
   ],
   "source": [
    "df[\"Text_3\"] = [' '.join(w for w in item) for item in df[\"Text_2\"]]\n",
    "df"
   ]
  },
  {
   "cell_type": "code",
   "execution_count": 40,
   "id": "90ad282d-fa73-4161-9125-488d1b390516",
   "metadata": {},
   "outputs": [],
   "source": [
    "from sklearn.feature_extraction.text import TfidfVectorizer\n",
    "vectorizer = TfidfVectorizer()\n",
    "X = vectorizer.fit_transform(df[\"Text_3\"].tolist())"
   ]
  },
  {
   "cell_type": "code",
   "execution_count": 41,
   "id": "245f8713-a339-4e0a-8a0f-feeda410331e",
   "metadata": {},
   "outputs": [
    {
     "name": "stdout",
     "output_type": "stream",
     "text": [
      "[[0. 0. 0. ... 0. 0. 0.]\n",
      " [0. 0. 0. ... 0. 0. 0.]\n",
      " [0. 0. 0. ... 0. 0. 0.]\n",
      " ...\n",
      " [0. 0. 0. ... 0. 0. 0.]\n",
      " [0. 0. 0. ... 0. 0. 0.]\n",
      " [0. 0. 0. ... 0. 0. 0.]]\n"
     ]
    }
   ],
   "source": [
    "print(X.toarray())"
   ]
  },
  {
   "cell_type": "code",
   "execution_count": 42,
   "id": "7af7087b-f60d-474c-b406-5c26495ebac7",
   "metadata": {},
   "outputs": [
    {
     "data": {
      "text/plain": [
       "{0.0,\n",
       " 0.2090273779797295,\n",
       " 0.3165897461897301,\n",
       " 0.33055622574351307,\n",
       " 0.3699255204228972,\n",
       " 0.3838919999766801,\n",
       " 0.4035766473163723}"
      ]
     },
     "execution_count": 42,
     "metadata": {},
     "output_type": "execute_result"
    }
   ],
   "source": [
    "set(X.toarray()[0])"
   ]
  },
  {
   "cell_type": "code",
   "execution_count": 43,
   "id": "b676a1b9-c639-40ee-a223-8f956a1d3b4c",
   "metadata": {},
   "outputs": [
    {
     "data": {
      "text/html": [
       "<div>\n",
       "<style scoped>\n",
       "    .dataframe tbody tr th:only-of-type {\n",
       "        vertical-align: middle;\n",
       "    }\n",
       "\n",
       "    .dataframe tbody tr th {\n",
       "        vertical-align: top;\n",
       "    }\n",
       "\n",
       "    .dataframe thead th {\n",
       "        text-align: right;\n",
       "    }\n",
       "</style>\n",
       "<table border=\"1\" class=\"dataframe\">\n",
       "  <thead>\n",
       "    <tr style=\"text-align: right;\">\n",
       "      <th></th>\n",
       "      <th>Text</th>\n",
       "      <th>Label</th>\n",
       "      <th>Text_2</th>\n",
       "      <th>Text_3</th>\n",
       "      <th>Text_4</th>\n",
       "    </tr>\n",
       "  </thead>\n",
       "  <tbody>\n",
       "    <tr>\n",
       "      <th>0</th>\n",
       "      <td>turkcellmüzik biraz daha gelişsin fizy yi tama...</td>\n",
       "      <td>1</td>\n",
       "      <td>[turkcellmüzik, dah, geliş, fizy, yi, tamame, ...</td>\n",
       "      <td>turkcellmüzik dah geliş fizy yi tamame bırakıc...</td>\n",
       "      <td>[0.0, 0.0, 0.0, 0.0, 0.0, 0.0, 0.0, 0.0, 0.0, ...</td>\n",
       "    </tr>\n",
       "    <tr>\n",
       "      <th>1</th>\n",
       "      <td>hayat paylaşınca güzel...türkcell...</td>\n",
       "      <td>1</td>\n",
       "      <td>[hayat, paylaş, güzeltürkcell]</td>\n",
       "      <td>hayat paylaş güzeltürkcell</td>\n",
       "      <td>[0.0, 0.0, 0.0, 0.0, 0.0, 0.0, 0.0, 0.0, 0.0, ...</td>\n",
       "    </tr>\n",
       "    <tr>\n",
       "      <th>2</th>\n",
       "      <td>superonline varya daha iyi</td>\n",
       "      <td>1</td>\n",
       "      <td>[superonl, varya, dah]</td>\n",
       "      <td>superonl varya dah</td>\n",
       "      <td>[0.0, 0.0, 0.0, 0.0, 0.0, 0.0, 0.0, 0.0, 0.0, ...</td>\n",
       "    </tr>\n",
       "    <tr>\n",
       "      <th>3</th>\n",
       "      <td>hahaha kanka turkcell bu 4 ceker :d</td>\n",
       "      <td>1</td>\n",
       "      <td>[hahah, kanka, turkcell, ceker]</td>\n",
       "      <td>hahah kanka turkcell ceker</td>\n",
       "      <td>[0.0, 0.0, 0.0, 0.0, 0.0, 0.0, 0.0, 0.0, 0.0, ...</td>\n",
       "    </tr>\n",
       "    <tr>\n",
       "      <th>4</th>\n",
       "      <td>turkcell 3 tl hediye etse bana ne güzel olur =)</td>\n",
       "      <td>1</td>\n",
       "      <td>[turkcell, tl, hedi, et, ba, güzel, olur]</td>\n",
       "      <td>turkcell tl hedi et ba güzel olur</td>\n",
       "      <td>[0.0, 0.0, 0.0, 0.0, 0.0, 0.0, 0.0, 0.0, 0.0, ...</td>\n",
       "    </tr>\n",
       "    <tr>\n",
       "      <th>...</th>\n",
       "      <td>...</td>\n",
       "      <td>...</td>\n",
       "      <td>...</td>\n",
       "      <td>...</td>\n",
       "      <td>...</td>\n",
       "    </tr>\n",
       "    <tr>\n",
       "      <th>2993</th>\n",
       "      <td>gördüğüm en adi şerefsiz kurumsunuz</td>\n",
       "      <td>2</td>\n",
       "      <td>[gördük, adi, şerefsiz, kur]</td>\n",
       "      <td>gördük adi şerefsiz kur</td>\n",
       "      <td>[0.0, 0.0, 0.0, 0.0, 0.0, 0.0, 0.0, 0.0, 0.0, ...</td>\n",
       "    </tr>\n",
       "    <tr>\n",
       "      <th>2994</th>\n",
       "      <td>#turkcell seni de ben boykot edicem.</td>\n",
       "      <td>2</td>\n",
       "      <td>[se, ben, boykot, edicem]</td>\n",
       "      <td>se ben boykot edicem</td>\n",
       "      <td>[0.0, 0.0, 0.0, 0.0, 0.0, 0.0, 0.0, 0.0, 0.0, ...</td>\n",
       "    </tr>\n",
       "    <tr>\n",
       "      <th>2995</th>\n",
       "      <td>diğer hatların çekmediği yerde çeken her hattı...</td>\n",
       "      <td>2</td>\n",
       "      <td>[diğer, hat, çekmedik, yer, çeke, hat, çektik,...</td>\n",
       "      <td>diğer hat çekmedik yer çeke hat çektik yer çek...</td>\n",
       "      <td>[0.0, 0.0, 0.0, 0.0, 0.0, 0.0, 0.0, 0.0, 0.0, ...</td>\n",
       "    </tr>\n",
       "    <tr>\n",
       "      <th>2996</th>\n",
       "      <td>sanirim 3g baglanti sorunu var, surekli edge o...</td>\n",
       "      <td>2</td>\n",
       "      <td>[sanir, g, baglanti, sor, var, surekli, edge, ...</td>\n",
       "      <td>sanir g baglanti sor var surekli edge oluyor i...</td>\n",
       "      <td>[0.0, 0.0, 0.0, 0.0, 0.0, 0.0, 0.0, 0.0, 0.0, ...</td>\n",
       "    </tr>\n",
       "    <tr>\n",
       "      <th>2997</th>\n",
       "      <td>besiktas metropol subeniz oldukca ukela bu tur...</td>\n",
       "      <td>2</td>\n",
       "      <td>[besiktas, metropol, sube, olduk, ukel, turkce...</td>\n",
       "      <td>besiktas metropol sube olduk ukel turkcele hic...</td>\n",
       "      <td>[0.0, 0.0, 0.0, 0.0, 0.0, 0.0, 0.0, 0.0, 0.0, ...</td>\n",
       "    </tr>\n",
       "  </tbody>\n",
       "</table>\n",
       "<p>2998 rows × 5 columns</p>\n",
       "</div>"
      ],
      "text/plain": [
       "                                                   Text  Label   \n",
       "0     turkcellmüzik biraz daha gelişsin fizy yi tama...      1  \\\n",
       "1                  hayat paylaşınca güzel...türkcell...      1   \n",
       "2                            superonline varya daha iyi      1   \n",
       "3                   hahaha kanka turkcell bu 4 ceker :d      1   \n",
       "4       turkcell 3 tl hediye etse bana ne güzel olur =)      1   \n",
       "...                                                 ...    ...   \n",
       "2993                gördüğüm en adi şerefsiz kurumsunuz      2   \n",
       "2994               #turkcell seni de ben boykot edicem.      2   \n",
       "2995  diğer hatların çekmediği yerde çeken her hattı...      2   \n",
       "2996  sanirim 3g baglanti sorunu var, surekli edge o...      2   \n",
       "2997  besiktas metropol subeniz oldukca ukela bu tur...      2   \n",
       "\n",
       "                                                 Text_2   \n",
       "0     [turkcellmüzik, dah, geliş, fizy, yi, tamame, ...  \\\n",
       "1                        [hayat, paylaş, güzeltürkcell]   \n",
       "2                                [superonl, varya, dah]   \n",
       "3                       [hahah, kanka, turkcell, ceker]   \n",
       "4             [turkcell, tl, hedi, et, ba, güzel, olur]   \n",
       "...                                                 ...   \n",
       "2993                       [gördük, adi, şerefsiz, kur]   \n",
       "2994                          [se, ben, boykot, edicem]   \n",
       "2995  [diğer, hat, çekmedik, yer, çeke, hat, çektik,...   \n",
       "2996  [sanir, g, baglanti, sor, var, surekli, edge, ...   \n",
       "2997  [besiktas, metropol, sube, olduk, ukel, turkce...   \n",
       "\n",
       "                                                 Text_3   \n",
       "0     turkcellmüzik dah geliş fizy yi tamame bırakıc...  \\\n",
       "1                            hayat paylaş güzeltürkcell   \n",
       "2                                    superonl varya dah   \n",
       "3                            hahah kanka turkcell ceker   \n",
       "4                     turkcell tl hedi et ba güzel olur   \n",
       "...                                                 ...   \n",
       "2993                            gördük adi şerefsiz kur   \n",
       "2994                               se ben boykot edicem   \n",
       "2995  diğer hat çekmedik yer çeke hat çektik yer çek...   \n",
       "2996  sanir g baglanti sor var surekli edge oluyor i...   \n",
       "2997  besiktas metropol sube olduk ukel turkcele hic...   \n",
       "\n",
       "                                                 Text_4  \n",
       "0     [0.0, 0.0, 0.0, 0.0, 0.0, 0.0, 0.0, 0.0, 0.0, ...  \n",
       "1     [0.0, 0.0, 0.0, 0.0, 0.0, 0.0, 0.0, 0.0, 0.0, ...  \n",
       "2     [0.0, 0.0, 0.0, 0.0, 0.0, 0.0, 0.0, 0.0, 0.0, ...  \n",
       "3     [0.0, 0.0, 0.0, 0.0, 0.0, 0.0, 0.0, 0.0, 0.0, ...  \n",
       "4     [0.0, 0.0, 0.0, 0.0, 0.0, 0.0, 0.0, 0.0, 0.0, ...  \n",
       "...                                                 ...  \n",
       "2993  [0.0, 0.0, 0.0, 0.0, 0.0, 0.0, 0.0, 0.0, 0.0, ...  \n",
       "2994  [0.0, 0.0, 0.0, 0.0, 0.0, 0.0, 0.0, 0.0, 0.0, ...  \n",
       "2995  [0.0, 0.0, 0.0, 0.0, 0.0, 0.0, 0.0, 0.0, 0.0, ...  \n",
       "2996  [0.0, 0.0, 0.0, 0.0, 0.0, 0.0, 0.0, 0.0, 0.0, ...  \n",
       "2997  [0.0, 0.0, 0.0, 0.0, 0.0, 0.0, 0.0, 0.0, 0.0, ...  \n",
       "\n",
       "[2998 rows x 5 columns]"
      ]
     },
     "execution_count": 43,
     "metadata": {},
     "output_type": "execute_result"
    }
   ],
   "source": [
    "df[\"Text_4\"] = X.toarray().tolist()\n",
    "df"
   ]
  },
  {
   "cell_type": "code",
   "execution_count": 44,
   "id": "9162bfab-4f00-49db-9af2-2ebde037039d",
   "metadata": {},
   "outputs": [
    {
     "data": {
      "text/plain": [
       "9038"
      ]
     },
     "execution_count": 44,
     "metadata": {},
     "output_type": "execute_result"
    }
   ],
   "source": [
    "len(X.toarray()[0])"
   ]
  },
  {
   "cell_type": "code",
   "execution_count": 45,
   "id": "2922b1f8-492e-4dbd-8525-fbbab15b9b6d",
   "metadata": {},
   "outputs": [],
   "source": [
    "#Tanımlamalar\n",
    "from sklearn.neighbors import KNeighborsClassifier\n",
    "from sklearn.model_selection import train_test_split\n",
    "from sklearn.pipeline import Pipeline\n",
    "from sklearn.feature_extraction.text import TfidfVectorizer\n",
    "from sklearn.metrics import f1_score,accuracy_score,confusion_matrix,ConfusionMatrixDisplay\n",
    "from sklearn.svm import LinearSVC"
   ]
  },
  {
   "cell_type": "code",
   "execution_count": 46,
   "id": "47731c07-1e72-4848-85fd-ddefe0c4ba84",
   "metadata": {},
   "outputs": [],
   "source": [
    "svm= Pipeline([('vect',TfidfVectorizer()),('svm',LinearSVC())])"
   ]
  },
  {
   "cell_type": "code",
   "execution_count": 47,
   "id": "c813e41c-b6ce-4bfb-94c2-745b5819432b",
   "metadata": {},
   "outputs": [],
   "source": [
    "msg_train,msg_test,label_train,label_test,= train_test_split(df[\"Text_3\"].tolist(),df[\"Label\"].tolist(),test_size=0.2,random_state= 42)"
   ]
  },
  {
   "cell_type": "code",
   "execution_count": 48,
   "id": "65f05c9f-56f4-426c-908d-03b59ce30644",
   "metadata": {},
   "outputs": [],
   "source": [
    "svm.fit(msg_train,label_train)\n",
    "y_pred_class = svm.predict(msg_test)"
   ]
  },
  {
   "cell_type": "code",
   "execution_count": 49,
   "id": "abda4074-a0c2-4ffd-8207-dd879b4bd094",
   "metadata": {},
   "outputs": [
    {
     "data": {
      "text/html": [
       "<div>\n",
       "<style scoped>\n",
       "    .dataframe tbody tr th:only-of-type {\n",
       "        vertical-align: middle;\n",
       "    }\n",
       "\n",
       "    .dataframe tbody tr th {\n",
       "        vertical-align: top;\n",
       "    }\n",
       "\n",
       "    .dataframe thead th {\n",
       "        text-align: right;\n",
       "    }\n",
       "</style>\n",
       "<table border=\"1\" class=\"dataframe\">\n",
       "  <thead>\n",
       "    <tr style=\"text-align: right;\">\n",
       "      <th></th>\n",
       "      <th>Text</th>\n",
       "      <th>Label</th>\n",
       "      <th>Text_2</th>\n",
       "      <th>Text_3</th>\n",
       "      <th>Text_4</th>\n",
       "    </tr>\n",
       "  </thead>\n",
       "  <tbody>\n",
       "    <tr>\n",
       "      <th>0</th>\n",
       "      <td>turkcellmüzik biraz daha gelişsin fizy yi tama...</td>\n",
       "      <td>1</td>\n",
       "      <td>[turkcellmüzik, dah, geliş, fizy, yi, tamame, ...</td>\n",
       "      <td>turkcellmüzik dah geliş fizy yi tamame bırakıc...</td>\n",
       "      <td>[0.0, 0.0, 0.0, 0.0, 0.0, 0.0, 0.0, 0.0, 0.0, ...</td>\n",
       "    </tr>\n",
       "    <tr>\n",
       "      <th>1</th>\n",
       "      <td>hayat paylaşınca güzel...türkcell...</td>\n",
       "      <td>1</td>\n",
       "      <td>[hayat, paylaş, güzeltürkcell]</td>\n",
       "      <td>hayat paylaş güzeltürkcell</td>\n",
       "      <td>[0.0, 0.0, 0.0, 0.0, 0.0, 0.0, 0.0, 0.0, 0.0, ...</td>\n",
       "    </tr>\n",
       "    <tr>\n",
       "      <th>2</th>\n",
       "      <td>superonline varya daha iyi</td>\n",
       "      <td>1</td>\n",
       "      <td>[superonl, varya, dah]</td>\n",
       "      <td>superonl varya dah</td>\n",
       "      <td>[0.0, 0.0, 0.0, 0.0, 0.0, 0.0, 0.0, 0.0, 0.0, ...</td>\n",
       "    </tr>\n",
       "    <tr>\n",
       "      <th>3</th>\n",
       "      <td>hahaha kanka turkcell bu 4 ceker :d</td>\n",
       "      <td>1</td>\n",
       "      <td>[hahah, kanka, turkcell, ceker]</td>\n",
       "      <td>hahah kanka turkcell ceker</td>\n",
       "      <td>[0.0, 0.0, 0.0, 0.0, 0.0, 0.0, 0.0, 0.0, 0.0, ...</td>\n",
       "    </tr>\n",
       "    <tr>\n",
       "      <th>4</th>\n",
       "      <td>turkcell 3 tl hediye etse bana ne güzel olur =)</td>\n",
       "      <td>1</td>\n",
       "      <td>[turkcell, tl, hedi, et, ba, güzel, olur]</td>\n",
       "      <td>turkcell tl hedi et ba güzel olur</td>\n",
       "      <td>[0.0, 0.0, 0.0, 0.0, 0.0, 0.0, 0.0, 0.0, 0.0, ...</td>\n",
       "    </tr>\n",
       "  </tbody>\n",
       "</table>\n",
       "</div>"
      ],
      "text/plain": [
       "                                                Text  Label   \n",
       "0  turkcellmüzik biraz daha gelişsin fizy yi tama...      1  \\\n",
       "1               hayat paylaşınca güzel...türkcell...      1   \n",
       "2                         superonline varya daha iyi      1   \n",
       "3                hahaha kanka turkcell bu 4 ceker :d      1   \n",
       "4    turkcell 3 tl hediye etse bana ne güzel olur =)      1   \n",
       "\n",
       "                                              Text_2   \n",
       "0  [turkcellmüzik, dah, geliş, fizy, yi, tamame, ...  \\\n",
       "1                     [hayat, paylaş, güzeltürkcell]   \n",
       "2                             [superonl, varya, dah]   \n",
       "3                    [hahah, kanka, turkcell, ceker]   \n",
       "4          [turkcell, tl, hedi, et, ba, güzel, olur]   \n",
       "\n",
       "                                              Text_3   \n",
       "0  turkcellmüzik dah geliş fizy yi tamame bırakıc...  \\\n",
       "1                         hayat paylaş güzeltürkcell   \n",
       "2                                 superonl varya dah   \n",
       "3                         hahah kanka turkcell ceker   \n",
       "4                  turkcell tl hedi et ba güzel olur   \n",
       "\n",
       "                                              Text_4  \n",
       "0  [0.0, 0.0, 0.0, 0.0, 0.0, 0.0, 0.0, 0.0, 0.0, ...  \n",
       "1  [0.0, 0.0, 0.0, 0.0, 0.0, 0.0, 0.0, 0.0, 0.0, ...  \n",
       "2  [0.0, 0.0, 0.0, 0.0, 0.0, 0.0, 0.0, 0.0, 0.0, ...  \n",
       "3  [0.0, 0.0, 0.0, 0.0, 0.0, 0.0, 0.0, 0.0, 0.0, ...  \n",
       "4  [0.0, 0.0, 0.0, 0.0, 0.0, 0.0, 0.0, 0.0, 0.0, ...  "
      ]
     },
     "execution_count": 49,
     "metadata": {},
     "output_type": "execute_result"
    }
   ],
   "source": [
    "df.head()"
   ]
  },
  {
   "cell_type": "code",
   "execution_count": 50,
   "id": "1f25b8cd-4e5b-46b2-b390-1df2d8b55fcc",
   "metadata": {},
   "outputs": [
    {
     "data": {
      "text/plain": [
       "2398"
      ]
     },
     "execution_count": 50,
     "metadata": {},
     "output_type": "execute_result"
    }
   ],
   "source": [
    "len(msg_train)"
   ]
  },
  {
   "cell_type": "code",
   "execution_count": 51,
   "id": "ee14b287-c7de-498e-81da-6938270df15e",
   "metadata": {},
   "outputs": [
    {
     "data": {
      "text/plain": [
       "600"
      ]
     },
     "execution_count": 51,
     "metadata": {},
     "output_type": "execute_result"
    }
   ],
   "source": [
    "len(msg_test)"
   ]
  },
  {
   "cell_type": "code",
   "execution_count": 52,
   "id": "2e8d6e5c-d8d0-4b3a-b6fd-f9a47d103949",
   "metadata": {},
   "outputs": [
    {
     "data": {
      "text/plain": [
       "2398"
      ]
     },
     "execution_count": 52,
     "metadata": {},
     "output_type": "execute_result"
    }
   ],
   "source": [
    "len(label_train)"
   ]
  },
  {
   "cell_type": "code",
   "execution_count": 53,
   "id": "0e72b03c-4f93-4b20-a9b4-7103639d4659",
   "metadata": {},
   "outputs": [
    {
     "name": "stdout",
     "output_type": "stream",
     "text": [
      "knn accuracy score: 0.48\n",
      "knn f1 score: 0.4777143588992974\n"
     ]
    }
   ],
   "source": [
    "#KNN Algoritması uygulama\n",
    "from sklearn.neighbors import KNeighborsClassifier\n",
    "\n",
    "msg_train,msg_test,label_train,label_test,= train_test_split(df[\"Text_3\"].tolist(),df[\"Label\"].tolist(),test_size=0.2,random_state= 42)\n",
    "knn = Pipeline([('vect',TfidfVectorizer()),('knn',KNeighborsClassifier())]) \n",
    "knn.fit(msg_train,label_train)\n",
    "y_pred_class = knn.predict(msg_test)\n",
    "\n",
    "print(\"knn accuracy score:\",accuracy_score(label_test,y_pred_class))\n",
    "print(\"knn f1 score:\",f1_score(label_test,y_pred_class,average=\"weighted\"))"
   ]
  },
  {
   "cell_type": "code",
   "execution_count": 54,
   "id": "dcd74a0b-bf30-4ecc-8e4a-b7d44977fbdf",
   "metadata": {},
   "outputs": [
    {
     "data": {
      "text/plain": [
       "600"
      ]
     },
     "execution_count": 54,
     "metadata": {},
     "output_type": "execute_result"
    }
   ],
   "source": [
    "len(msg_test)"
   ]
  },
  {
   "cell_type": "code",
   "execution_count": 55,
   "id": "a3fc2a86-82d9-4848-a50d-137a0c78062f",
   "metadata": {},
   "outputs": [
    {
     "data": {
      "text/plain": [
       "288.0"
      ]
     },
     "execution_count": 55,
     "metadata": {},
     "output_type": "execute_result"
    }
   ],
   "source": [
    "#600 taneden kaç tanesini bilmiş\n",
    "600*0.48"
   ]
  },
  {
   "cell_type": "code",
   "execution_count": 56,
   "id": "fa21d482-f933-4574-a40f-c947b8c54781",
   "metadata": {},
   "outputs": [
    {
     "data": {
      "text/plain": [
       "<sklearn.metrics._plot.confusion_matrix.ConfusionMatrixDisplay at 0x1aef4bf7fa0>"
      ]
     },
     "execution_count": 56,
     "metadata": {},
     "output_type": "execute_result"
    },
    {
     "data": {
      "image/png": "[encoded data removed]",
      "text/plain": [
       "<Figure size 640x480 with 2 Axes>"
      ]
     },
     "metadata": {},
     "output_type": "display_data"
    }
   ],
   "source": [
    "cm=confusion_matrix(label_test,y_pred_class,labels=svm.classes_)\n",
    "disp = ConfusionMatrixDisplay(confusion_matrix=cm,display_labels=svm.classes_)\n",
    "disp.plot() "
   ]
  },
  {
   "cell_type": "code",
   "execution_count": 58,
   "id": "81ec2e98-efea-4b0d-bf2e-8b5287d6d20e",
   "metadata": {},
   "outputs": [],
   "source": [
    "# Word2Vec modelini eğitme\n",
    "word2vec_model = Word2Vec(df[\"Text_2\"], min_count=1)"
   ]
  },
  {
   "cell_type": "code",
   "execution_count": 60,
   "id": "5626cfad-7031-4465-b3ff-7eaf686e8f58",
   "metadata": {},
   "outputs": [],
   "source": [
    "# Metinlerin Word2Vec gömme vektörlerini hesaplama\n",
    "def get_sentence_embedding(sentence):\n",
    "    sentence_vectors = []\n",
    "    for word in sentence:\n",
    "        if word in word2vec_model.wv:\n",
    "            sentence_vectors.append(word2vec_model.wv[word])\n",
    "    if len(sentence_vectors) == 0:\n",
    "        return np.zeros(100)  # Eğer tüm kelimeler Word2Vec modelinde yoksa sıfır vektör döndürülür\n",
    "    return np.mean(sentence_vectors, axis=0)\n",
    "\n",
    "df[\"Text_5\"] = df[\"Text_2\"].apply(get_sentence_embedding)"
   ]
  },
  {
   "cell_type": "code",
   "execution_count": 61,
   "id": "3722b119-c9ea-4b54-8598-d1e4cd558c9e",
   "metadata": {},
   "outputs": [
    {
     "name": "stdout",
     "output_type": "stream",
     "text": [
      "KNN ile Word2Vec accuracy score: 0.3933333333333333\n",
      "KNN ile Word2Vec F1 score: 0.3610365678191934\n"
     ]
    }
   ],
   "source": [
    "# Word2Vec gömme vektörleriyle KNN algoritmasını kullanma\n",
    "msg_train, msg_test, label_train, label_test = train_test_split(df[\"Text_5\"].tolist(), df[\"Label\"].tolist(), test_size=0.2, random_state=42)\n",
    "knn_word2vec = KNeighborsClassifier()\n",
    "knn_word2vec.fit(msg_train, label_train)\n",
    "y_pred_class_word2vec = knn_word2vec.predict(msg_test)\n",
    "\n",
    "print(\"KNN ile Word2Vec accuracy score:\", accuracy_score(label_test, y_pred_class_word2vec))\n",
    "print(\"KNN ile Word2Vec F1 score:\", f1_score(label_test, y_pred_class_word2vec, average=\"weighted\"))"
   ]
  },
  {
   "cell_type": "code",
   "execution_count": 62,
   "id": "fbe7a537-6b64-4dab-b6ae-209c328326ab",
   "metadata": {},
   "outputs": [
    {
     "data": {
      "text/plain": [
       "<sklearn.metrics._plot.confusion_matrix.ConfusionMatrixDisplay at 0x1aef4bf7dc0>"
      ]
     },
     "execution_count": 62,
     "metadata": {},
     "output_type": "execute_result"
    },
    {
     "data": {
      "image/png": "[encoded data removed]",
      "text/plain": [
       "<Figure size 640x480 with 2 Axes>"
      ]
     },
     "metadata": {},
     "output_type": "display_data"
    }
   ],
   "source": [
    "# Confusion Matrix\n",
    "cm_word2vec = confusion_matrix(label_test, y_pred_class_word2vec, labels=knn_word2vec.classes_)\n",
    "disp_word2vec = ConfusionMatrixDisplay(confusion_matrix=cm_word2vec, display_labels=knn_word2vec.classes_)\n",
    "disp_word2vec.plot()"
   ]
  },
  {
   "cell_type": "code",
   "execution_count": null,
   "id": "a9a5a5d7-a4a6-4dc5-b10f-5b730e158244",
   "metadata": {},
   "outputs": [],
   "source": []
  }
 ],
 "metadata": {
  "kernelspec": {
   "display_name": "Python 3 (ipykernel)",
   "language": "python",
   "name": "python3"
  },
  "language_info": {
   "codemirror_mode": {
    "name": "ipython",
    "version": 3
   },
   "file_extension": ".py",
   "mimetype": "text/x-python",
   "name": "python",
   "nbconvert_exporter": "python",
   "pygments_lexer": "ipython3",
   "version": "3.10.10"
  }
 },
 "nbformat": 4,
 "nbformat_minor": 5
}
