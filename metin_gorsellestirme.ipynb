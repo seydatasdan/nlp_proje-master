{
 "cells": [
  {
   "cell_type": "code",
   "execution_count": 26,
   "id": "066b1519-46cf-451b-aca0-4f2775c13311",
   "metadata": {},
   "outputs": [],
   "source": [
    "import pandas as pd\n",
    "import re\n",
    "import snowballstemmer\n",
    "import numpy as np\n",
    "import matplotlib.pyplot as plt\n",
    "from sklearn.manifold import TSNE\n"
   ]
  },
  {
   "cell_type": "markdown",
   "id": "cb75dc11-4fb5-450f-a3c5-da0f7bb3f726",
   "metadata": {},
   "source": [
    "Adım 1 ön işlem adımları"
   ]
  },
  {
   "cell_type": "code",
   "execution_count": 2,
   "id": "3d1c5379-cbf4-4d66-8f59-9b61f99b86c0",
   "metadata": {},
   "outputs": [
    {
     "data": {
      "text/html": [
       "<div>\n",
       "<style scoped>\n",
       "    .dataframe tbody tr th:only-of-type {\n",
       "        vertical-align: middle;\n",
       "    }\n",
       "\n",
       "    .dataframe tbody tr th {\n",
       "        vertical-align: top;\n",
       "    }\n",
       "\n",
       "    .dataframe thead th {\n",
       "        text-align: right;\n",
       "    }\n",
       "</style>\n",
       "<table border=\"1\" class=\"dataframe\">\n",
       "  <thead>\n",
       "    <tr style=\"text-align: right;\">\n",
       "      <th></th>\n",
       "      <th>Text</th>\n",
       "    </tr>\n",
       "  </thead>\n",
       "  <tbody>\n",
       "    <tr>\n",
       "      <th>0</th>\n",
       "      <td>merhaba can gurler belirttiginiz urunle ilgili...</td>\n",
       "    </tr>\n",
       "    <tr>\n",
       "      <th>1</th>\n",
       "      <td>-bir mesaj atsa! *mesaj sesi* (şok ifadesi) no...</td>\n",
       "    </tr>\n",
       "    <tr>\n",
       "      <th>2</th>\n",
       "      <td>mbps fiber baglantim var ama nedense ustunu go...</td>\n",
       "    </tr>\n",
       "    <tr>\n",
       "      <th>3</th>\n",
       "      <td>fiberin hizi vatandasin cebindeki parayi nasil...</td>\n",
       "    </tr>\n",
       "    <tr>\n",
       "      <th>4</th>\n",
       "      <td>sakin vestel almayinnher urunu bozuk arkasinds...</td>\n",
       "    </tr>\n",
       "    <tr>\n",
       "      <th>...</th>\n",
       "      <td>...</td>\n",
       "    </tr>\n",
       "    <tr>\n",
       "      <th>12127</th>\n",
       "      <td>tab gosterir misiniz</td>\n",
       "    </tr>\n",
       "    <tr>\n",
       "      <th>12128</th>\n",
       "      <td>kimse seneye görüşürüz esprisi yapmıyo derken,...</td>\n",
       "    </tr>\n",
       "    <tr>\n",
       "      <th>12129</th>\n",
       "      <td>bin kisiye verecegi hizmeti tek santralden bin...</td>\n",
       "    </tr>\n",
       "    <tr>\n",
       "      <th>12130</th>\n",
       "      <td>zafer bayraminiz degil bayramimiz kizmislardir...</td>\n",
       "    </tr>\n",
       "    <tr>\n",
       "      <th>12131</th>\n",
       "      <td>baston bebek arasi ozellikle anakucagiu sekli ...</td>\n",
       "    </tr>\n",
       "  </tbody>\n",
       "</table>\n",
       "<p>12132 rows × 1 columns</p>\n",
       "</div>"
      ],
      "text/plain": [
       "                                                    Text\n",
       "0      merhaba can gurler belirttiginiz urunle ilgili...\n",
       "1      -bir mesaj atsa! *mesaj sesi* (şok ifadesi) no...\n",
       "2      mbps fiber baglantim var ama nedense ustunu go...\n",
       "3      fiberin hizi vatandasin cebindeki parayi nasil...\n",
       "4      sakin vestel almayinnher urunu bozuk arkasinds...\n",
       "...                                                  ...\n",
       "12127                               tab gosterir misiniz\n",
       "12128  kimse seneye görüşürüz esprisi yapmıyo derken,...\n",
       "12129  bin kisiye verecegi hizmeti tek santralden bin...\n",
       "12130  zafer bayraminiz degil bayramimiz kizmislardir...\n",
       "12131  baston bebek arasi ozellikle anakucagiu sekli ...\n",
       "\n",
       "[12132 rows x 1 columns]"
      ]
     },
     "execution_count": 2,
     "metadata": {},
     "output_type": "execute_result"
    }
   ],
   "source": [
    "df = pd.read_csv(\"data/nlp_proje_metin_gorsellestirme.csv\",index_col=0)\n",
    "df"
   ]
  },
  {
   "cell_type": "code",
   "execution_count": 3,
   "id": "a06d5c1a-1541-455f-a500-d5b7f056f54c",
   "metadata": {},
   "outputs": [
    {
     "data": {
      "text/html": [
       "<div>\n",
       "<style scoped>\n",
       "    .dataframe tbody tr th:only-of-type {\n",
       "        vertical-align: middle;\n",
       "    }\n",
       "\n",
       "    .dataframe tbody tr th {\n",
       "        vertical-align: top;\n",
       "    }\n",
       "\n",
       "    .dataframe thead th {\n",
       "        text-align: right;\n",
       "    }\n",
       "</style>\n",
       "<table border=\"1\" class=\"dataframe\">\n",
       "  <thead>\n",
       "    <tr style=\"text-align: right;\">\n",
       "      <th></th>\n",
       "      <th>Text</th>\n",
       "    </tr>\n",
       "  </thead>\n",
       "  <tbody>\n",
       "    <tr>\n",
       "      <th>0</th>\n",
       "      <td>merhaba can gurler belirttiginiz urunle ilgili...</td>\n",
       "    </tr>\n",
       "    <tr>\n",
       "      <th>1</th>\n",
       "      <td>-bir mesaj atsa! *mesaj sesi* (şok ifadesi) no...</td>\n",
       "    </tr>\n",
       "    <tr>\n",
       "      <th>2</th>\n",
       "      <td>mbps fiber baglantim var ama nedense ustunu go...</td>\n",
       "    </tr>\n",
       "    <tr>\n",
       "      <th>3</th>\n",
       "      <td>fiberin hizi vatandasin cebindeki parayi nasil...</td>\n",
       "    </tr>\n",
       "    <tr>\n",
       "      <th>4</th>\n",
       "      <td>sakin vestel almayinnher urunu bozuk arkasinds...</td>\n",
       "    </tr>\n",
       "  </tbody>\n",
       "</table>\n",
       "</div>"
      ],
      "text/plain": [
       "                                                Text\n",
       "0  merhaba can gurler belirttiginiz urunle ilgili...\n",
       "1  -bir mesaj atsa! *mesaj sesi* (şok ifadesi) no...\n",
       "2  mbps fiber baglantim var ama nedense ustunu go...\n",
       "3  fiberin hizi vatandasin cebindeki parayi nasil...\n",
       "4  sakin vestel almayinnher urunu bozuk arkasinds..."
      ]
     },
     "execution_count": 3,
     "metadata": {},
     "output_type": "execute_result"
    }
   ],
   "source": [
    "df.head()"
   ]
  },
  {
   "cell_type": "code",
   "execution_count": 4,
   "id": "93d9515c-4210-4fca-a689-dd8272f35304",
   "metadata": {},
   "outputs": [
    {
     "name": "stdout",
     "output_type": "stream",
     "text": [
      "Requirement already satisfied: snowballstemmer in c:\\users\\seyda\\miniconda3\\lib\\site-packages (2.2.0)\n",
      "Note: you may need to restart the kernel to use updated packages.\n"
     ]
    }
   ],
   "source": [
    "pip install snowballstemmer"
   ]
  },
  {
   "cell_type": "code",
   "execution_count": 5,
   "id": "ef9b735a-7270-4a05-a3c7-7a17282d9b41",
   "metadata": {},
   "outputs": [],
   "source": [
    "# emojilerin kaldırılması\n",
    "def remove_emoji(value):\n",
    "    bfr=re.compile(\"[\\U00010000-\\U0010ffff]\",flags=re.UNICODE)\n",
    "    bfr=bfr.sub(r'',value)\n",
    "    return bfr"
   ]
  },
  {
   "cell_type": "code",
   "execution_count": 6,
   "id": "82efa522-007a-4086-bf58-fb76ea0dd57e",
   "metadata": {},
   "outputs": [],
   "source": [
    "#linklerin kaldırılması \n",
    "def remove_link(value):\n",
    "    return re.sub('((www\\.[^\\s]+)|(https?://[^\\s]+))','',value)"
   ]
  },
  {
   "cell_type": "code",
   "execution_count": 7,
   "id": "0a420f35-966b-4bc6-a5dd-dc0d5d4e0c7f",
   "metadata": {},
   "outputs": [],
   "source": [
    "# numerik karakterlerin kaldırılması\n",
    "def remove_numeric(value):\n",
    "    bfr= [item for item in value if not item.isdigit()]\n",
    "    bfr = \"\".join(bfr)\n",
    "    return bfr "
   ]
  },
  {
   "cell_type": "code",
   "execution_count": 8,
   "id": "91b49276-77cb-4233-adf2-88c40bdab693",
   "metadata": {},
   "outputs": [],
   "source": [
    "def remove_hashtag(value):\n",
    "    if not isinstance(value, (str, bytes)):\n",
    "        raise TypeError(\"value parametresi bir dize veya bayt benzeri nesne olmalıdır.\")\n",
    "    return re.sub(r'#[^\\s]+', '', value)"
   ]
  },
  {
   "cell_type": "code",
   "execution_count": 9,
   "id": "49619a2e-37a0-4d37-a4b4-3b5478a91ebb",
   "metadata": {},
   "outputs": [],
   "source": [
    "# hashtaglerin kaldırılması\n",
    "def remove_hashtag(value):\n",
    "    return re.sub(r'#[^\\s]+','',value)"
   ]
  },
  {
   "cell_type": "code",
   "execution_count": 10,
   "id": "4ac64a95-9c5c-4917-8e2b-c9cc19308266",
   "metadata": {},
   "outputs": [],
   "source": [
    "#noktalama işaretlerinin kaldırılması\n",
    "def remove_noktalama(value):\n",
    "    return re.sub(r'[^\\w\\s]','',value) "
   ]
  },
  {
   "cell_type": "code",
   "execution_count": 11,
   "id": "67ce3894-7a25-447d-b2ad-57511ec79977",
   "metadata": {},
   "outputs": [],
   "source": [
    "#tek karakterli ifadelerin kaldırılması\n",
    "def remove_single_character(value):\n",
    "    return re.sub(r'(?:^| )\\w(?:$| )','',value)"
   ]
  },
  {
   "cell_type": "code",
   "execution_count": 12,
   "id": "ebd63743-3252-4efb-bada-8970b41a5523",
   "metadata": {},
   "outputs": [],
   "source": [
    "# kullanıcı adlarının kaldırılması\n",
    "def remove_username(value):\n",
    "    return re.sub('@[^\\s]+','',value)"
   ]
  },
  {
   "cell_type": "code",
   "execution_count": 13,
   "id": "2914b4d3-d7e5-4f1f-9a5d-2e7680c92454",
   "metadata": {},
   "outputs": [],
   "source": [
    "#kök indirgeme ve stop words işlemleri\n",
    "import snowballstemmer\n",
    "def stem_word(value):\n",
    "    stemmer= snowballstemmer.stemmer(\"turkish\")\n",
    "    value = value.lower()\n",
    "    value=stemmer.stemWords(value.split())\n",
    "    stop_words= ['bence','a','acaba','altı','altmış','ama','ancak','arada','artık','asla','aslında','ayrıca','az',\n",
    "                 'bana','bazen','bazı','bile','biraz','bu','bunu','bunun','çoğu','çoğunu','çok','çünkü',\n",
    "                 'da','daha','de','ise','defa','diye','gibi','en','kim','mı','mi','mu','mü','bir','iki',\n",
    "                 'üç','dört','beş','altı','yedi','sekiz','dokuz','on','niçin','niye','şey','siz','şu',\n",
    "                'her','hiç','ve','veya','ya','yani','ne','neden']\n",
    "    value= [item for item in value if not item in stop_words]\n",
    "    value=' ' .join(value)\n",
    "    return value"
   ]
  },
  {
   "cell_type": "code",
   "execution_count": 14,
   "id": "c7533baa-0be1-4813-9fd6-51595e0e6c35",
   "metadata": {},
   "outputs": [],
   "source": [
    "# ön işlem fonksiyonlarının sırayla çağırılması\n",
    "def pre_processing(value):\n",
    "    return [(remove_emoji(remove_link\n",
    "                          (remove_numeric\n",
    "                           (remove_hashtag\n",
    "                            (remove_noktalama\n",
    "                             (remove_single_character\n",
    "                              (remove_username\n",
    "                               (stem_word(word))))))))) for word in value.split()]"
   ]
  },
  {
   "cell_type": "markdown",
   "id": "65e60ea9-be7e-49a8-8033-1f82eb165eb8",
   "metadata": {},
   "source": [
    "Adım 2 Word2vec modeli ile eğitme işlemleri"
   ]
  },
  {
   "cell_type": "code",
   "execution_count": 15,
   "id": "dd652fa9-8832-47c3-9ec1-a389b56933be",
   "metadata": {},
   "outputs": [],
   "source": [
    "from gensim.models import Word2Vec"
   ]
  },
  {
   "cell_type": "code",
   "execution_count": 20,
   "id": "38132d64-3213-4e0c-a531-43ddc7db8dd2",
   "metadata": {},
   "outputs": [],
   "source": [
    "sentences = df[\"Text\"].dropna().apply(pre_processing).tolist()  #NaN değerleri kaldırmak için dropna kullanıldı\n",
    "word2vec_model = Word2Vec(sentences, min_count=1)   #Word2Vec modelini eğitme"
   ]
  },
  {
   "cell_type": "code",
   "execution_count": 25,
   "id": "5e9bfa51-a215-49cc-a33a-c81721f413db",
   "metadata": {},
   "outputs": [
    {
     "name": "stdout",
     "output_type": "stream",
     "text": [
      "[('et', 0.9918080568313599), ('turkcel', 0.9917208552360535), ('rabp', 0.991639256477356), ('zengi', 0.9916020631790161), ('gol', 0.9915964007377625), ('bakma', 0.9913391470909119), ('kanal', 0.9912528991699219), ('eger', 0.9912149906158447), ('helal', 0.9911813139915466), ('verip', 0.9911149740219116)]\n"
     ]
    }
   ],
   "source": [
    "word = \"ama\"  # Analiz etmek istenilen kelime\n",
    "\n",
    "# Kelimenin en yakın 10 kelimesini bul\n",
    "similar_words = word2vec_model.wv.most_similar(word, topn=10)\n",
    "print(similar_words)\n"
   ]
  },
  {
   "cell_type": "markdown",
   "id": "816a38f2-0b72-466a-abf0-2ebc2e4030f2",
   "metadata": {},
   "source": [
    "Adım 3 TSNE algoritması kullanılarak görselleştirme işlemi"
   ]
  },
  {
   "cell_type": "code",
   "execution_count": 65,
   "id": "8d9f5a92-e74e-42ce-b239-f306d881fdf3",
   "metadata": {},
   "outputs": [],
   "source": [
    "# Kelimenin vektörünü alma\n",
    "word_vector = word2vec_model.wv[word]\n",
    "\n",
    "# En yakın 10 kelimenin vektörlerini alın\n",
    "similar_word_vectors = [word2vec_model.wv[word] for word, _ in similar_words]\n"
   ]
  }
 ],
 "metadata": {
  "kernelspec": {
   "display_name": "Python 3 (ipykernel)",
   "language": "python",
   "name": "python3"
  },
  "language_info": {
   "codemirror_mode": {
    "name": "ipython",
    "version": 3
   },
   "file_extension": ".py",
   "mimetype": "text/x-python",
   "name": "python",
   "nbconvert_exporter": "python",
   "pygments_lexer": "ipython3",
   "version": "3.10.10"
  }
 },
 "nbformat": 4,
 "nbformat_minor": 5
}
