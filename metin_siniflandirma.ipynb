{
 "cells": [
  {
   "cell_type": "code",
   "execution_count": 2,
   "id": "38d264fb-d2a7-4198-b5e0-ffde02688154",
   "metadata": {},
   "outputs": [
    {
     "name": "stdout",
     "output_type": "stream",
     "text": [
      "Requirement already satisfied: matplotlib in c:\\users\\seyda\\miniconda3\\lib\\site-packages (3.7.1)\n",
      "Requirement already satisfied: contourpy>=1.0.1 in c:\\users\\seyda\\miniconda3\\lib\\site-packages (from matplotlib) (1.0.7)\n",
      "Requirement already satisfied: packaging>=20.0 in c:\\users\\seyda\\miniconda3\\lib\\site-packages (from matplotlib) (23.0)\n",
      "Requirement already satisfied: kiwisolver>=1.0.1 in c:\\users\\seyda\\miniconda3\\lib\\site-packages (from matplotlib) (1.4.4)\n",
      "Requirement already satisfied: numpy>=1.20 in c:\\users\\seyda\\miniconda3\\lib\\site-packages (from matplotlib) (1.24.3)\n",
      "Requirement already satisfied: pyparsing>=2.3.1 in c:\\users\\seyda\\miniconda3\\lib\\site-packages (from matplotlib) (3.0.9)\n",
      "Requirement already satisfied: python-dateutil>=2.7 in c:\\users\\seyda\\miniconda3\\lib\\site-packages (from matplotlib) (2.8.2)\n",
      "Requirement already satisfied: cycler>=0.10 in c:\\users\\seyda\\miniconda3\\lib\\site-packages (from matplotlib) (0.11.0)\n",
      "Requirement already satisfied: fonttools>=4.22.0 in c:\\users\\seyda\\miniconda3\\lib\\site-packages (from matplotlib) (4.39.4)\n",
      "Requirement already satisfied: pillow>=6.2.0 in c:\\users\\seyda\\miniconda3\\lib\\site-packages (from matplotlib) (9.5.0)\n",
      "Requirement already satisfied: six>=1.5 in c:\\users\\seyda\\miniconda3\\lib\\site-packages (from python-dateutil>=2.7->matplotlib) (1.16.0)\n",
      "Note: you may need to restart the kernel to use updated packages.\n"
     ]
    }
   ],
   "source": [
    "pip install matplotlib"
   ]
  },
  {
   "cell_type": "code",
   "execution_count": 29,
   "id": "2088111b-8ade-4cee-b415-80ee42b26aa1",
   "metadata": {},
   "outputs": [],
   "source": [
    "import matplotlib.pyplot as plt\n",
    "import pandas as pd\n",
    "from gensim.models import Word2Vec\n",
    "import numpy as np\n"
   ]
  },
  {
   "cell_type": "code",
   "execution_count": 4,
   "id": "f000d03a-22fa-4cac-973a-fa16176a0a94",
   "metadata": {},
   "outputs": [
    {
     "data": {
      "text/html": [
       "<div>\n",
       "<style scoped>\n",
       "    .dataframe tbody tr th:only-of-type {\n",
       "        vertical-align: middle;\n",
       "    }\n",
       "\n",
       "    .dataframe tbody tr th {\n",
       "        vertical-align: top;\n",
       "    }\n",
       "\n",
       "    .dataframe thead th {\n",
       "        text-align: right;\n",
       "    }\n",
       "</style>\n",
       "<table border=\"1\" class=\"dataframe\">\n",
       "  <thead>\n",
       "    <tr style=\"text-align: right;\">\n",
       "      <th></th>\n",
       "      <th>Text</th>\n",
       "      <th>Label</th>\n",
       "    </tr>\n",
       "  </thead>\n",
       "  <tbody>\n",
       "    <tr>\n",
       "      <th>0</th>\n",
       "      <td>turkcellmüzik biraz daha gelişsin fizy yi tama...</td>\n",
       "      <td>1</td>\n",
       "    </tr>\n",
       "    <tr>\n",
       "      <th>1</th>\n",
       "      <td>hayat paylaşınca güzel...türkcell...</td>\n",
       "      <td>1</td>\n",
       "    </tr>\n",
       "    <tr>\n",
       "      <th>2</th>\n",
       "      <td>superonline varya daha iyi</td>\n",
       "      <td>1</td>\n",
       "    </tr>\n",
       "    <tr>\n",
       "      <th>3</th>\n",
       "      <td>hahaha kanka turkcell bu 4 ceker :d</td>\n",
       "      <td>1</td>\n",
       "    </tr>\n",
       "    <tr>\n",
       "      <th>4</th>\n",
       "      <td>turkcell 3 tl hediye etse bana ne güzel olur =)</td>\n",
       "      <td>1</td>\n",
       "    </tr>\n",
       "  </tbody>\n",
       "</table>\n",
       "</div>"
      ],
      "text/plain": [
       "                                                Text  Label\n",
       "0  turkcellmüzik biraz daha gelişsin fizy yi tama...      1\n",
       "1               hayat paylaşınca güzel...türkcell...      1\n",
       "2                         superonline varya daha iyi      1\n",
       "3                hahaha kanka turkcell bu 4 ceker :d      1\n",
       "4    turkcell 3 tl hediye etse bana ne güzel olur =)      1"
      ]
     },
     "execution_count": 4,
     "metadata": {},
     "output_type": "execute_result"
    }
   ],
   "source": [
    "df= pd.read_csv(\"data/nlp_proje_metin_siniflandirma.csv\",index_col=0)\n",
    "df.head()"
   ]
  },
  {
   "cell_type": "code",
   "execution_count": 5,
   "id": "44197212-0fdb-4ecb-8aeb-618d24217239",
   "metadata": {},
   "outputs": [],
   "source": [
    "df[\"Text\"] = df[\"Text\"].astype(str)"
   ]
  },
  {
   "cell_type": "code",
   "execution_count": 6,
   "id": "b9393dc4-8e47-4c8b-aac1-a13636e66151",
   "metadata": {},
   "outputs": [],
   "source": [
    "import on_islem"
   ]
  },
  {
   "cell_type": "code",
   "execution_count": 7,
   "id": "908d265d-c9f2-46a4-a4bc-689b0bd2e8eb",
   "metadata": {},
   "outputs": [
    {
     "data": {
      "text/html": [
       "<div>\n",
       "<style scoped>\n",
       "    .dataframe tbody tr th:only-of-type {\n",
       "        vertical-align: middle;\n",
       "    }\n",
       "\n",
       "    .dataframe tbody tr th {\n",
       "        vertical-align: top;\n",
       "    }\n",
       "\n",
       "    .dataframe thead th {\n",
       "        text-align: right;\n",
       "    }\n",
       "</style>\n",
       "<table border=\"1\" class=\"dataframe\">\n",
       "  <thead>\n",
       "    <tr style=\"text-align: right;\">\n",
       "      <th></th>\n",
       "      <th>Text</th>\n",
       "      <th>Label</th>\n",
       "      <th>Text_2</th>\n",
       "    </tr>\n",
       "  </thead>\n",
       "  <tbody>\n",
       "    <tr>\n",
       "      <th>0</th>\n",
       "      <td>turkcellmüzik biraz daha gelişsin fizy yi tama...</td>\n",
       "      <td>1</td>\n",
       "      <td>[turkcellmüzik, dah, geliş, fizy, yi, tamame, ...</td>\n",
       "    </tr>\n",
       "    <tr>\n",
       "      <th>1</th>\n",
       "      <td>hayat paylaşınca güzel...türkcell...</td>\n",
       "      <td>1</td>\n",
       "      <td>[hayat, paylaş, güzeltürkcell]</td>\n",
       "    </tr>\n",
       "    <tr>\n",
       "      <th>2</th>\n",
       "      <td>superonline varya daha iyi</td>\n",
       "      <td>1</td>\n",
       "      <td>[superonl, varya, dah]</td>\n",
       "    </tr>\n",
       "    <tr>\n",
       "      <th>3</th>\n",
       "      <td>hahaha kanka turkcell bu 4 ceker :d</td>\n",
       "      <td>1</td>\n",
       "      <td>[hahah, kanka, turkcell, ceker]</td>\n",
       "    </tr>\n",
       "    <tr>\n",
       "      <th>4</th>\n",
       "      <td>turkcell 3 tl hediye etse bana ne güzel olur =)</td>\n",
       "      <td>1</td>\n",
       "      <td>[turkcell, tl, hedi, et, ba, güzel, olur]</td>\n",
       "    </tr>\n",
       "  </tbody>\n",
       "</table>\n",
       "</div>"
      ],
      "text/plain": [
       "                                                Text  Label   \n",
       "0  turkcellmüzik biraz daha gelişsin fizy yi tama...      1  \\\n",
       "1               hayat paylaşınca güzel...türkcell...      1   \n",
       "2                         superonline varya daha iyi      1   \n",
       "3                hahaha kanka turkcell bu 4 ceker :d      1   \n",
       "4    turkcell 3 tl hediye etse bana ne güzel olur =)      1   \n",
       "\n",
       "                                              Text_2  \n",
       "0  [turkcellmüzik, dah, geliş, fizy, yi, tamame, ...  \n",
       "1                     [hayat, paylaş, güzeltürkcell]  \n",
       "2                             [superonl, varya, dah]  \n",
       "3                    [hahah, kanka, turkcell, ceker]  \n",
       "4          [turkcell, tl, hedi, et, ba, güzel, olur]  "
      ]
     },
     "execution_count": 7,
     "metadata": {},
     "output_type": "execute_result"
    }
   ],
   "source": [
    "df[\"Text_2\"]=df[\"Text\"].apply(on_islem.pre_processing)\n",
    "df[\"Text_2\"]=df[\"Text_2\"].apply(on_islem.remove_space)\n",
    "df.head()"
   ]
  },
  {
   "cell_type": "code",
   "execution_count": 8,
   "id": "90ccda78-2559-4960-b096-df3024d04f05",
   "metadata": {},
   "outputs": [
    {
     "data": {
      "text/html": [
       "<div>\n",
       "<style scoped>\n",
       "    .dataframe tbody tr th:only-of-type {\n",
       "        vertical-align: middle;\n",
       "    }\n",
       "\n",
       "    .dataframe tbody tr th {\n",
       "        vertical-align: top;\n",
       "    }\n",
       "\n",
       "    .dataframe thead th {\n",
       "        text-align: right;\n",
       "    }\n",
       "</style>\n",
       "<table border=\"1\" class=\"dataframe\">\n",
       "  <thead>\n",
       "    <tr style=\"text-align: right;\">\n",
       "      <th></th>\n",
       "      <th>Text</th>\n",
       "      <th>Label</th>\n",
       "      <th>Text_2</th>\n",
       "    </tr>\n",
       "  </thead>\n",
       "  <tbody>\n",
       "    <tr>\n",
       "      <th>1608</th>\n",
       "      <td>:s</td>\n",
       "      <td>3</td>\n",
       "      <td>[]</td>\n",
       "    </tr>\n",
       "    <tr>\n",
       "      <th>2200</th>\n",
       "      <td>#turkcellesavasimvar</td>\n",
       "      <td>2</td>\n",
       "      <td>[]</td>\n",
       "    </tr>\n",
       "  </tbody>\n",
       "</table>\n",
       "</div>"
      ],
      "text/plain": [
       "                      Text  Label Text_2\n",
       "1608                    :s      3     []\n",
       "2200  #turkcellesavasimvar      2     []"
      ]
     },
     "execution_count": 8,
     "metadata": {},
     "output_type": "execute_result"
    }
   ],
   "source": [
    "#boş liste kontrolü\n",
    "df[df[\"Text_2\"].str[0].isnull()]"
   ]
  },
  {
   "cell_type": "code",
   "execution_count": 9,
   "id": "74305b49-ad99-443f-bb90-347ef41b1b1d",
   "metadata": {},
   "outputs": [
    {
     "data": {
      "text/html": [
       "<div>\n",
       "<style scoped>\n",
       "    .dataframe tbody tr th:only-of-type {\n",
       "        vertical-align: middle;\n",
       "    }\n",
       "\n",
       "    .dataframe tbody tr th {\n",
       "        vertical-align: top;\n",
       "    }\n",
       "\n",
       "    .dataframe thead th {\n",
       "        text-align: right;\n",
       "    }\n",
       "</style>\n",
       "<table border=\"1\" class=\"dataframe\">\n",
       "  <thead>\n",
       "    <tr style=\"text-align: right;\">\n",
       "      <th></th>\n",
       "      <th>Text</th>\n",
       "      <th>Label</th>\n",
       "      <th>Text_2</th>\n",
       "    </tr>\n",
       "  </thead>\n",
       "  <tbody>\n",
       "  </tbody>\n",
       "</table>\n",
       "</div>"
      ],
      "text/plain": [
       "Empty DataFrame\n",
       "Columns: [Text, Label, Text_2]\n",
       "Index: []"
      ]
     },
     "execution_count": 9,
     "metadata": {},
     "output_type": "execute_result"
    }
   ],
   "source": [
    "df_index = df[df[\"Text_2\"].str[0].isnull()].index\n",
    "df = df.drop(df_index)\n",
    "df = df.reset_index()\n",
    "del df[\"index\"]\n",
    "df[df[\"Text_2\"].str[0].isnull()]"
   ]
  },
  {
   "cell_type": "code",
   "execution_count": 10,
   "id": "1d88e06c-7329-4961-98e1-e6cfd87a6439",
   "metadata": {},
   "outputs": [
    {
     "data": {
      "text/plain": [
       "0       [turkcellmüzik, dah, geliş, fizy, yi, tamame, ...\n",
       "1                          [hayat, paylaş, güzeltürkcell]\n",
       "2                                  [superonl, varya, dah]\n",
       "3                         [hahah, kanka, turkcell, ceker]\n",
       "4               [turkcell, tl, hedi, et, ba, güzel, olur]\n",
       "                              ...                        \n",
       "2993                         [gördük, adi, şerefsiz, kur]\n",
       "2994                            [se, ben, boykot, edicem]\n",
       "2995    [diğer, hat, çekmedik, yer, çeke, hat, çektik,...\n",
       "2996    [sanir, g, baglanti, sor, var, surekli, edge, ...\n",
       "2997    [besiktas, metropol, sube, olduk, ukel, turkce...\n",
       "Name: Text_2, Length: 2998, dtype: object"
      ]
     },
     "execution_count": 10,
     "metadata": {},
     "output_type": "execute_result"
    }
   ],
   "source": [
    "df[\"Text_2\"]"
   ]
  },
  {
   "cell_type": "code",
   "execution_count": 11,
   "id": "9f15c0d3-37c9-4711-852c-59b7a2d97ecb",
   "metadata": {},
   "outputs": [
    {
     "data": {
      "text/html": [
       "<div>\n",
       "<style scoped>\n",
       "    .dataframe tbody tr th:only-of-type {\n",
       "        vertical-align: middle;\n",
       "    }\n",
       "\n",
       "    .dataframe tbody tr th {\n",
       "        vertical-align: top;\n",
       "    }\n",
       "\n",
       "    .dataframe thead th {\n",
       "        text-align: right;\n",
       "    }\n",
       "</style>\n",
       "<table border=\"1\" class=\"dataframe\">\n",
       "  <thead>\n",
       "    <tr style=\"text-align: right;\">\n",
       "      <th></th>\n",
       "      <th>Text</th>\n",
       "      <th>Label</th>\n",
       "      <th>Text_2</th>\n",
       "      <th>Text_3</th>\n",
       "    </tr>\n",
       "  </thead>\n",
       "  <tbody>\n",
       "    <tr>\n",
       "      <th>0</th>\n",
       "      <td>turkcellmüzik biraz daha gelişsin fizy yi tama...</td>\n",
       "      <td>1</td>\n",
       "      <td>[turkcellmüzik, dah, geliş, fizy, yi, tamame, ...</td>\n",
       "      <td>turkcellmüzik dah geliş fizy yi tamame bırakıc...</td>\n",
       "    </tr>\n",
       "    <tr>\n",
       "      <th>1</th>\n",
       "      <td>hayat paylaşınca güzel...türkcell...</td>\n",
       "      <td>1</td>\n",
       "      <td>[hayat, paylaş, güzeltürkcell]</td>\n",
       "      <td>hayat paylaş güzeltürkcell</td>\n",
       "    </tr>\n",
       "    <tr>\n",
       "      <th>2</th>\n",
       "      <td>superonline varya daha iyi</td>\n",
       "      <td>1</td>\n",
       "      <td>[superonl, varya, dah]</td>\n",
       "      <td>superonl varya dah</td>\n",
       "    </tr>\n",
       "    <tr>\n",
       "      <th>3</th>\n",
       "      <td>hahaha kanka turkcell bu 4 ceker :d</td>\n",
       "      <td>1</td>\n",
       "      <td>[hahah, kanka, turkcell, ceker]</td>\n",
       "      <td>hahah kanka turkcell ceker</td>\n",
       "    </tr>\n",
       "    <tr>\n",
       "      <th>4</th>\n",
       "      <td>turkcell 3 tl hediye etse bana ne güzel olur =)</td>\n",
       "      <td>1</td>\n",
       "      <td>[turkcell, tl, hedi, et, ba, güzel, olur]</td>\n",
       "      <td>turkcell tl hedi et ba güzel olur</td>\n",
       "    </tr>\n",
       "    <tr>\n",
       "      <th>...</th>\n",
       "      <td>...</td>\n",
       "      <td>...</td>\n",
       "      <td>...</td>\n",
       "      <td>...</td>\n",
       "    </tr>\n",
       "    <tr>\n",
       "      <th>2993</th>\n",
       "      <td>gördüğüm en adi şerefsiz kurumsunuz</td>\n",
       "      <td>2</td>\n",
       "      <td>[gördük, adi, şerefsiz, kur]</td>\n",
       "      <td>gördük adi şerefsiz kur</td>\n",
       "    </tr>\n",
       "    <tr>\n",
       "      <th>2994</th>\n",
       "      <td>#turkcell seni de ben boykot edicem.</td>\n",
       "      <td>2</td>\n",
       "      <td>[se, ben, boykot, edicem]</td>\n",
       "      <td>se ben boykot edicem</td>\n",
       "    </tr>\n",
       "    <tr>\n",
       "      <th>2995</th>\n",
       "      <td>diğer hatların çekmediği yerde çeken her hattı...</td>\n",
       "      <td>2</td>\n",
       "      <td>[diğer, hat, çekmedik, yer, çeke, hat, çektik,...</td>\n",
       "      <td>diğer hat çekmedik yer çeke hat çektik yer çek...</td>\n",
       "    </tr>\n",
       "    <tr>\n",
       "      <th>2996</th>\n",
       "      <td>sanirim 3g baglanti sorunu var, surekli edge o...</td>\n",
       "      <td>2</td>\n",
       "      <td>[sanir, g, baglanti, sor, var, surekli, edge, ...</td>\n",
       "      <td>sanir g baglanti sor var surekli edge oluyor i...</td>\n",
       "    </tr>\n",
       "    <tr>\n",
       "      <th>2997</th>\n",
       "      <td>besiktas metropol subeniz oldukca ukela bu tur...</td>\n",
       "      <td>2</td>\n",
       "      <td>[besiktas, metropol, sube, olduk, ukel, turkce...</td>\n",
       "      <td>besiktas metropol sube olduk ukel turkcele hic...</td>\n",
       "    </tr>\n",
       "  </tbody>\n",
       "</table>\n",
       "<p>2998 rows × 4 columns</p>\n",
       "</div>"
      ],
      "text/plain": [
       "                                                   Text  Label   \n",
       "0     turkcellmüzik biraz daha gelişsin fizy yi tama...      1  \\\n",
       "1                  hayat paylaşınca güzel...türkcell...      1   \n",
       "2                            superonline varya daha iyi      1   \n",
       "3                   hahaha kanka turkcell bu 4 ceker :d      1   \n",
       "4       turkcell 3 tl hediye etse bana ne güzel olur =)      1   \n",
       "...                                                 ...    ...   \n",
       "2993                gördüğüm en adi şerefsiz kurumsunuz      2   \n",
       "2994               #turkcell seni de ben boykot edicem.      2   \n",
       "2995  diğer hatların çekmediği yerde çeken her hattı...      2   \n",
       "2996  sanirim 3g baglanti sorunu var, surekli edge o...      2   \n",
       "2997  besiktas metropol subeniz oldukca ukela bu tur...      2   \n",
       "\n",
       "                                                 Text_2   \n",
       "0     [turkcellmüzik, dah, geliş, fizy, yi, tamame, ...  \\\n",
       "1                        [hayat, paylaş, güzeltürkcell]   \n",
       "2                                [superonl, varya, dah]   \n",
       "3                       [hahah, kanka, turkcell, ceker]   \n",
       "4             [turkcell, tl, hedi, et, ba, güzel, olur]   \n",
       "...                                                 ...   \n",
       "2993                       [gördük, adi, şerefsiz, kur]   \n",
       "2994                          [se, ben, boykot, edicem]   \n",
       "2995  [diğer, hat, çekmedik, yer, çeke, hat, çektik,...   \n",
       "2996  [sanir, g, baglanti, sor, var, surekli, edge, ...   \n",
       "2997  [besiktas, metropol, sube, olduk, ukel, turkce...   \n",
       "\n",
       "                                                 Text_3  \n",
       "0     turkcellmüzik dah geliş fizy yi tamame bırakıc...  \n",
       "1                            hayat paylaş güzeltürkcell  \n",
       "2                                    superonl varya dah  \n",
       "3                            hahah kanka turkcell ceker  \n",
       "4                     turkcell tl hedi et ba güzel olur  \n",
       "...                                                 ...  \n",
       "2993                            gördük adi şerefsiz kur  \n",
       "2994                               se ben boykot edicem  \n",
       "2995  diğer hat çekmedik yer çeke hat çektik yer çek...  \n",
       "2996  sanir g baglanti sor var surekli edge oluyor i...  \n",
       "2997  besiktas metropol sube olduk ukel turkcele hic...  \n",
       "\n",
       "[2998 rows x 4 columns]"
      ]
     },
     "execution_count": 11,
     "metadata": {},
     "output_type": "execute_result"
    }
   ],
   "source": [
    "df[\"Text_3\"] = [' '.join(w for w in item) for item in df[\"Text_2\"]]\n",
    "df"
   ]
  },
  {
   "cell_type": "code",
   "execution_count": 12,
   "id": "af75b611-e3c2-4e9d-874e-9e5ee08e2a01",
   "metadata": {},
   "outputs": [],
   "source": [
    "from sklearn.feature_extraction.text import TfidfVectorizer\n",
    "vectorizer = TfidfVectorizer()\n",
    "X = vectorizer.fit_transform(df[\"Text_3\"].tolist())"
   ]
  },
  {
   "cell_type": "code",
   "execution_count": 13,
   "id": "3f609d95-b059-43c8-9a67-552644c6e269",
   "metadata": {},
   "outputs": [
    {
     "name": "stdout",
     "output_type": "stream",
     "text": [
      "[[0. 0. 0. ... 0. 0. 0.]\n",
      " [0. 0. 0. ... 0. 0. 0.]\n",
      " [0. 0. 0. ... 0. 0. 0.]\n",
      " ...\n",
      " [0. 0. 0. ... 0. 0. 0.]\n",
      " [0. 0. 0. ... 0. 0. 0.]\n",
      " [0. 0. 0. ... 0. 0. 0.]]\n"
     ]
    }
   ],
   "source": [
    "print(X.toarray())"
   ]
  },
  {
   "cell_type": "code",
   "execution_count": 14,
   "id": "e87ee1aa-ee90-46a8-a510-2f27710bb71a",
   "metadata": {},
   "outputs": [
    {
     "data": {
      "text/plain": [
       "{0.0,\n",
       " 0.2090273779797295,\n",
       " 0.3165897461897301,\n",
       " 0.33055622574351307,\n",
       " 0.3699255204228972,\n",
       " 0.3838919999766801,\n",
       " 0.4035766473163723}"
      ]
     },
     "execution_count": 14,
     "metadata": {},
     "output_type": "execute_result"
    }
   ],
   "source": [
    "set(X.toarray()[0])"
   ]
  },
  {
   "cell_type": "code",
   "execution_count": 15,
   "id": "c5729e95-8eac-4e02-be3b-692136425e5c",
   "metadata": {},
   "outputs": [
    {
     "data": {
      "text/html": [
       "<div>\n",
       "<style scoped>\n",
       "    .dataframe tbody tr th:only-of-type {\n",
       "        vertical-align: middle;\n",
       "    }\n",
       "\n",
       "    .dataframe tbody tr th {\n",
       "        vertical-align: top;\n",
       "    }\n",
       "\n",
       "    .dataframe thead th {\n",
       "        text-align: right;\n",
       "    }\n",
       "</style>\n",
       "<table border=\"1\" class=\"dataframe\">\n",
       "  <thead>\n",
       "    <tr style=\"text-align: right;\">\n",
       "      <th></th>\n",
       "      <th>Text</th>\n",
       "      <th>Label</th>\n",
       "      <th>Text_2</th>\n",
       "      <th>Text_3</th>\n",
       "      <th>Text_4</th>\n",
       "    </tr>\n",
       "  </thead>\n",
       "  <tbody>\n",
       "    <tr>\n",
       "      <th>0</th>\n",
       "      <td>turkcellmüzik biraz daha gelişsin fizy yi tama...</td>\n",
       "      <td>1</td>\n",
       "      <td>[turkcellmüzik, dah, geliş, fizy, yi, tamame, ...</td>\n",
       "      <td>turkcellmüzik dah geliş fizy yi tamame bırakıc...</td>\n",
       "      <td>[0.0, 0.0, 0.0, 0.0, 0.0, 0.0, 0.0, 0.0, 0.0, ...</td>\n",
       "    </tr>\n",
       "    <tr>\n",
       "      <th>1</th>\n",
       "      <td>hayat paylaşınca güzel...türkcell...</td>\n",
       "      <td>1</td>\n",
       "      <td>[hayat, paylaş, güzeltürkcell]</td>\n",
       "      <td>hayat paylaş güzeltürkcell</td>\n",
       "      <td>[0.0, 0.0, 0.0, 0.0, 0.0, 0.0, 0.0, 0.0, 0.0, ...</td>\n",
       "    </tr>\n",
       "    <tr>\n",
       "      <th>2</th>\n",
       "      <td>superonline varya daha iyi</td>\n",
       "      <td>1</td>\n",
       "      <td>[superonl, varya, dah]</td>\n",
       "      <td>superonl varya dah</td>\n",
       "      <td>[0.0, 0.0, 0.0, 0.0, 0.0, 0.0, 0.0, 0.0, 0.0, ...</td>\n",
       "    </tr>\n",
       "    <tr>\n",
       "      <th>3</th>\n",
       "      <td>hahaha kanka turkcell bu 4 ceker :d</td>\n",
       "      <td>1</td>\n",
       "      <td>[hahah, kanka, turkcell, ceker]</td>\n",
       "      <td>hahah kanka turkcell ceker</td>\n",
       "      <td>[0.0, 0.0, 0.0, 0.0, 0.0, 0.0, 0.0, 0.0, 0.0, ...</td>\n",
       "    </tr>\n",
       "    <tr>\n",
       "      <th>4</th>\n",
       "      <td>turkcell 3 tl hediye etse bana ne güzel olur =)</td>\n",
       "      <td>1</td>\n",
       "      <td>[turkcell, tl, hedi, et, ba, güzel, olur]</td>\n",
       "      <td>turkcell tl hedi et ba güzel olur</td>\n",
       "      <td>[0.0, 0.0, 0.0, 0.0, 0.0, 0.0, 0.0, 0.0, 0.0, ...</td>\n",
       "    </tr>\n",
       "    <tr>\n",
       "      <th>...</th>\n",
       "      <td>...</td>\n",
       "      <td>...</td>\n",
       "      <td>...</td>\n",
       "      <td>...</td>\n",
       "      <td>...</td>\n",
       "    </tr>\n",
       "    <tr>\n",
       "      <th>2993</th>\n",
       "      <td>gördüğüm en adi şerefsiz kurumsunuz</td>\n",
       "      <td>2</td>\n",
       "      <td>[gördük, adi, şerefsiz, kur]</td>\n",
       "      <td>gördük adi şerefsiz kur</td>\n",
       "      <td>[0.0, 0.0, 0.0, 0.0, 0.0, 0.0, 0.0, 0.0, 0.0, ...</td>\n",
       "    </tr>\n",
       "    <tr>\n",
       "      <th>2994</th>\n",
       "      <td>#turkcell seni de ben boykot edicem.</td>\n",
       "      <td>2</td>\n",
       "      <td>[se, ben, boykot, edicem]</td>\n",
       "      <td>se ben boykot edicem</td>\n",
       "      <td>[0.0, 0.0, 0.0, 0.0, 0.0, 0.0, 0.0, 0.0, 0.0, ...</td>\n",
       "    </tr>\n",
       "    <tr>\n",
       "      <th>2995</th>\n",
       "      <td>diğer hatların çekmediği yerde çeken her hattı...</td>\n",
       "      <td>2</td>\n",
       "      <td>[diğer, hat, çekmedik, yer, çeke, hat, çektik,...</td>\n",
       "      <td>diğer hat çekmedik yer çeke hat çektik yer çek...</td>\n",
       "      <td>[0.0, 0.0, 0.0, 0.0, 0.0, 0.0, 0.0, 0.0, 0.0, ...</td>\n",
       "    </tr>\n",
       "    <tr>\n",
       "      <th>2996</th>\n",
       "      <td>sanirim 3g baglanti sorunu var, surekli edge o...</td>\n",
       "      <td>2</td>\n",
       "      <td>[sanir, g, baglanti, sor, var, surekli, edge, ...</td>\n",
       "      <td>sanir g baglanti sor var surekli edge oluyor i...</td>\n",
       "      <td>[0.0, 0.0, 0.0, 0.0, 0.0, 0.0, 0.0, 0.0, 0.0, ...</td>\n",
       "    </tr>\n",
       "    <tr>\n",
       "      <th>2997</th>\n",
       "      <td>besiktas metropol subeniz oldukca ukela bu tur...</td>\n",
       "      <td>2</td>\n",
       "      <td>[besiktas, metropol, sube, olduk, ukel, turkce...</td>\n",
       "      <td>besiktas metropol sube olduk ukel turkcele hic...</td>\n",
       "      <td>[0.0, 0.0, 0.0, 0.0, 0.0, 0.0, 0.0, 0.0, 0.0, ...</td>\n",
       "    </tr>\n",
       "  </tbody>\n",
       "</table>\n",
       "<p>2998 rows × 5 columns</p>\n",
       "</div>"
      ],
      "text/plain": [
       "                                                   Text  Label   \n",
       "0     turkcellmüzik biraz daha gelişsin fizy yi tama...      1  \\\n",
       "1                  hayat paylaşınca güzel...türkcell...      1   \n",
       "2                            superonline varya daha iyi      1   \n",
       "3                   hahaha kanka turkcell bu 4 ceker :d      1   \n",
       "4       turkcell 3 tl hediye etse bana ne güzel olur =)      1   \n",
       "...                                                 ...    ...   \n",
       "2993                gördüğüm en adi şerefsiz kurumsunuz      2   \n",
       "2994               #turkcell seni de ben boykot edicem.      2   \n",
       "2995  diğer hatların çekmediği yerde çeken her hattı...      2   \n",
       "2996  sanirim 3g baglanti sorunu var, surekli edge o...      2   \n",
       "2997  besiktas metropol subeniz oldukca ukela bu tur...      2   \n",
       "\n",
       "                                                 Text_2   \n",
       "0     [turkcellmüzik, dah, geliş, fizy, yi, tamame, ...  \\\n",
       "1                        [hayat, paylaş, güzeltürkcell]   \n",
       "2                                [superonl, varya, dah]   \n",
       "3                       [hahah, kanka, turkcell, ceker]   \n",
       "4             [turkcell, tl, hedi, et, ba, güzel, olur]   \n",
       "...                                                 ...   \n",
       "2993                       [gördük, adi, şerefsiz, kur]   \n",
       "2994                          [se, ben, boykot, edicem]   \n",
       "2995  [diğer, hat, çekmedik, yer, çeke, hat, çektik,...   \n",
       "2996  [sanir, g, baglanti, sor, var, surekli, edge, ...   \n",
       "2997  [besiktas, metropol, sube, olduk, ukel, turkce...   \n",
       "\n",
       "                                                 Text_3   \n",
       "0     turkcellmüzik dah geliş fizy yi tamame bırakıc...  \\\n",
       "1                            hayat paylaş güzeltürkcell   \n",
       "2                                    superonl varya dah   \n",
       "3                            hahah kanka turkcell ceker   \n",
       "4                     turkcell tl hedi et ba güzel olur   \n",
       "...                                                 ...   \n",
       "2993                            gördük adi şerefsiz kur   \n",
       "2994                               se ben boykot edicem   \n",
       "2995  diğer hat çekmedik yer çeke hat çektik yer çek...   \n",
       "2996  sanir g baglanti sor var surekli edge oluyor i...   \n",
       "2997  besiktas metropol sube olduk ukel turkcele hic...   \n",
       "\n",
       "                                                 Text_4  \n",
       "0     [0.0, 0.0, 0.0, 0.0, 0.0, 0.0, 0.0, 0.0, 0.0, ...  \n",
       "1     [0.0, 0.0, 0.0, 0.0, 0.0, 0.0, 0.0, 0.0, 0.0, ...  \n",
       "2     [0.0, 0.0, 0.0, 0.0, 0.0, 0.0, 0.0, 0.0, 0.0, ...  \n",
       "3     [0.0, 0.0, 0.0, 0.0, 0.0, 0.0, 0.0, 0.0, 0.0, ...  \n",
       "4     [0.0, 0.0, 0.0, 0.0, 0.0, 0.0, 0.0, 0.0, 0.0, ...  \n",
       "...                                                 ...  \n",
       "2993  [0.0, 0.0, 0.0, 0.0, 0.0, 0.0, 0.0, 0.0, 0.0, ...  \n",
       "2994  [0.0, 0.0, 0.0, 0.0, 0.0, 0.0, 0.0, 0.0, 0.0, ...  \n",
       "2995  [0.0, 0.0, 0.0, 0.0, 0.0, 0.0, 0.0, 0.0, 0.0, ...  \n",
       "2996  [0.0, 0.0, 0.0, 0.0, 0.0, 0.0, 0.0, 0.0, 0.0, ...  \n",
       "2997  [0.0, 0.0, 0.0, 0.0, 0.0, 0.0, 0.0, 0.0, 0.0, ...  \n",
       "\n",
       "[2998 rows x 5 columns]"
      ]
     },
     "execution_count": 15,
     "metadata": {},
     "output_type": "execute_result"
    }
   ],
   "source": [
    "df[\"Text_4\"] = X.toarray().tolist()\n",
    "df"
   ]
  },
  {
   "cell_type": "code",
   "execution_count": 16,
   "id": "3bc40c5e-21ac-4433-a933-3d7881824a39",
   "metadata": {},
   "outputs": [
    {
     "data": {
      "text/plain": [
       "9038"
      ]
     },
     "execution_count": 16,
     "metadata": {},
     "output_type": "execute_result"
    }
   ],
   "source": [
    "len(X.toarray()[0])"
   ]
  },
  {
   "cell_type": "code",
   "execution_count": 17,
   "id": "da9f8c1d-113e-4588-8bba-586b81725278",
   "metadata": {},
   "outputs": [],
   "source": [
    "#Tanımlamalar\n",
    "from sklearn.neighbors import KNeighborsClassifier\n",
    "from sklearn.model_selection import train_test_split\n",
    "from sklearn.pipeline import Pipeline\n",
    "from sklearn.feature_extraction.text import TfidfVectorizer\n",
    "from sklearn.metrics import f1_score,accuracy_score,confusion_matrix,ConfusionMatrixDisplay\n",
    "from sklearn.svm import LinearSVC"
   ]
  },
  {
   "cell_type": "code",
   "execution_count": 18,
   "id": "4adede89-1d5e-4291-ac1b-9715ac223f55",
   "metadata": {},
   "outputs": [
    {
     "ename": "NameError",
     "evalue": "name 'svm' is not defined",
     "output_type": "error",
     "traceback": [
      "\u001b[1;31m---------------------------------------------------------------------------\u001b[0m",
      "\u001b[1;31mNameError\u001b[0m                                 Traceback (most recent call last)",
      "Cell \u001b[1;32mIn[18], line 1\u001b[0m\n\u001b[1;32m----> 1\u001b[0m \u001b[43msvm\u001b[49m\u001b[38;5;241m.\u001b[39mfit(msg_train,label_train)\n\u001b[0;32m      2\u001b[0m y_pred_class \u001b[38;5;241m=\u001b[39m svm\u001b[38;5;241m.\u001b[39mpredict(msg_test)\n",
      "\u001b[1;31mNameError\u001b[0m: name 'svm' is not defined"
     ]
    }
   ],
   "source": [
    "svm.fit(msg_train,label_train)\n",
    "y_pred_class = svm.predict(msg_test)"
   ]
  },
  {
   "cell_type": "code",
   "execution_count": null,
   "id": "6a97e924-16db-4ae4-9d3f-6fd292402ca9",
   "metadata": {},
   "outputs": [],
   "source": [
    "svm= Pipeline([('vect',TfidfVectorizer()),('svm',LinearSVC())])"
   ]
  },
  {
   "cell_type": "code",
   "execution_count": null,
   "id": "94265c41-a9ec-4b40-ae69-406eb549032e",
   "metadata": {},
   "outputs": [],
   "source": [
    "msg_train,msg_test,label_train,label_test,= train_test_split(df[\"Text_3\"].tolist(),df[\"Label\"].tolist(),test_size=0.2,random_state= 42)"
   ]
  },
  {
   "cell_type": "code",
   "execution_count": null,
   "id": "7ca98357-4042-4b1d-afad-e6348861ece0",
   "metadata": {},
   "outputs": [],
   "source": [
    "df.head()"
   ]
  },
  {
   "cell_type": "code",
   "execution_count": null,
   "id": "47cc72f7-f371-42bb-b0b1-70d12075e93e",
   "metadata": {},
   "outputs": [],
   "source": [
    "len(msg_train)"
   ]
  },
  {
   "cell_type": "code",
   "execution_count": null,
   "id": "2334774a-5294-422d-80fd-8552eb4ab15f",
   "metadata": {},
   "outputs": [],
   "source": [
    "len(msg_test)"
   ]
  },
  {
   "cell_type": "code",
   "execution_count": null,
   "id": "5df50e37-f1b8-4cb3-a353-a1a59b6c90eb",
   "metadata": {},
   "outputs": [],
   "source": [
    "len(label_train)"
   ]
  },
  {
   "cell_type": "code",
   "execution_count": 19,
   "id": "fcc2083a-39b7-484b-9283-776934bdb22e",
   "metadata": {},
   "outputs": [
    {
     "name": "stdout",
     "output_type": "stream",
     "text": [
      "knn accuracy score: 0.48\n",
      "knn f1 score: 0.4777143588992974\n"
     ]
    }
   ],
   "source": [
    "#KNN Algoritması uygulama\n",
    "from sklearn.neighbors import KNeighborsClassifier\n",
    "\n",
    "msg_train,msg_test,label_train,label_test,= train_test_split(df[\"Text_3\"].tolist(),df[\"Label\"].tolist(),test_size=0.2,random_state= 42)\n",
    "knn = Pipeline([('vect',TfidfVectorizer()),('knn',KNeighborsClassifier())]) \n",
    "knn.fit(msg_train,label_train)\n",
    "y_pred_class = knn.predict(msg_test)\n",
    "\n",
    "print(\"knn accuracy score:\",accuracy_score(label_test,y_pred_class))\n",
    "print(\"knn f1 score:\",f1_score(label_test,y_pred_class,average=\"weighted\"))"
   ]
  },
  {
   "cell_type": "code",
   "execution_count": 20,
   "id": "f0c7b61f-dd2a-4fef-8dba-970d24d8822b",
   "metadata": {},
   "outputs": [
    {
     "data": {
      "text/plain": [
       "600"
      ]
     },
     "execution_count": 20,
     "metadata": {},
     "output_type": "execute_result"
    }
   ],
   "source": [
    "len(msg_test)"
   ]
  },
  {
   "cell_type": "code",
   "execution_count": 21,
   "id": "27de0f28-1e3b-49cc-8757-7f4f72123a0e",
   "metadata": {},
   "outputs": [
    {
     "data": {
      "text/plain": [
       "288.0"
      ]
     },
     "execution_count": 21,
     "metadata": {},
     "output_type": "execute_result"
    }
   ],
   "source": [
    "#600 taneden kaç tanesini bilmiş\n",
    "600*0.48"
   ]
  },
  {
   "cell_type": "code",
   "execution_count": 34,
   "id": "e645a5c3-adf9-4418-96f9-d4f9cbdb3398",
   "metadata": {},
   "outputs": [
    {
     "data": {
      "text/plain": [
       "<sklearn.metrics._plot.confusion_matrix.ConfusionMatrixDisplay at 0x294d5e6bf10>"
      ]
     },
     "execution_count": 34,
     "metadata": {},
     "output_type": "execute_result"
    },
    {
     "data": {
      "image/png": "[encoded data removed]",
      "text/plain": [
       "<Figure size 640x480 with 2 Axes>"
      ]
     },
     "metadata": {},
     "output_type": "display_data"
    }
   ],
   "source": [
    "cm = confusion_matrix(label_test, y_pred_class, labels=np.unique(label_test))\n",
    "disp = ConfusionMatrixDisplay(confusion_matrix=cm, display_labels=np.unique(label_test))\n",
    "disp.plot()\n"
   ]
  },
  {
   "cell_type": "code",
   "execution_count": 27,
   "id": "ae04ffb1-f643-4ebb-9355-2161e26fc14f",
   "metadata": {},
   "outputs": [],
   "source": [
    "# Word2Vec modelini eğitme\n",
    "word2vec_model = Word2Vec(df[\"Text_2\"], min_count=1)\n"
   ]
  },
  {
   "cell_type": "code",
   "execution_count": 30,
   "id": "ff555b89-ec03-4312-9840-d97c94a8f794",
   "metadata": {},
   "outputs": [],
   "source": [
    "# Metinlerin Word2Vec gömme vektörlerini hesaplama\n",
    "def get_sentence_embedding(sentence):\n",
    "    sentence_vectors = []\n",
    "    for word in sentence:\n",
    "        if word in word2vec_model.wv:\n",
    "            sentence_vectors.append(word2vec_model.wv[word])\n",
    "    if len(sentence_vectors) == 0:\n",
    "        return np.zeros(100)  # Eğer tüm kelimeler Word2Vec modelinde yoksa sıfır vektör döndürülür\n",
    "    return np.mean(sentence_vectors, axis=0)\n",
    "\n",
    "df[\"Text_5\"] = df[\"Text_2\"].apply(get_sentence_embedding)"
   ]
  },
  {
   "cell_type": "code",
   "execution_count": 32,
   "id": "6447b077-ebc3-4052-b5b0-32b005767423",
   "metadata": {},
   "outputs": [
    {
     "name": "stdout",
     "output_type": "stream",
     "text": [
      "KNN ile Word2Vec accuracy score: 0.41\n",
      "KNN ile Word2Vec F1 score: 0.3819678013216179\n"
     ]
    }
   ],
   "source": [
    "# Word2Vec gömme vektörleriyle KNN algoritmasını kullanma\n",
    "msg_train, msg_test, label_train, label_test = train_test_split(df[\"Text_5\"].tolist(), df[\"Label\"].tolist(), test_size=0.2, random_state=42)\n",
    "knn_word2vec = KNeighborsClassifier()\n",
    "knn_word2vec.fit(msg_train, label_train)\n",
    "y_pred_class_word2vec = knn_word2vec.predict(msg_test)\n",
    "\n",
    "print(\"KNN ile Word2Vec accuracy score:\", accuracy_score(label_test, y_pred_class_word2vec))\n",
    "print(\"KNN ile Word2Vec F1 score:\", f1_score(label_test, y_pred_class_word2vec, average=\"weighted\"))\n"
   ]
  },
  {
   "cell_type": "code",
   "execution_count": 33,
   "id": "9cf0328e-4599-49e3-a70b-f3ed744be078",
   "metadata": {},
   "outputs": [
    {
     "data": {
      "text/plain": [
       "<sklearn.metrics._plot.confusion_matrix.ConfusionMatrixDisplay at 0x294d8d98c70>"
      ]
     },
     "execution_count": 33,
     "metadata": {},
     "output_type": "execute_result"
    },
    {
     "data": {
      "image/png": "[encoded data removed]",
      "text/plain": [
       "<Figure size 640x480 with 2 Axes>"
      ]
     },
     "metadata": {},
     "output_type": "display_data"
    }
   ],
   "source": [
    "# Confusion Matrix\n",
    "cm_word2vec = confusion_matrix(label_test, y_pred_class_word2vec, labels=knn_word2vec.classes_)\n",
    "disp_word2vec = ConfusionMatrixDisplay(confusion_matrix=cm_word2vec, display_labels=knn_word2vec.classes_)\n",
    "disp_word2vec.plot()"
   ]
  },
  {
   "cell_type": "code",
   "execution_count": null,
   "id": "e4f0e6a4-61c5-4e46-a63b-050e120ea530",
   "metadata": {},
   "outputs": [],
   "source": []
  }
 ],
 "metadata": {
  "kernelspec": {
   "display_name": "Python 3 (ipykernel)",
   "language": "python",
   "name": "python3"
  },
  "language_info": {
   "codemirror_mode": {
    "name": "ipython",
    "version": 3
   },
   "file_extension": ".py",
   "mimetype": "text/x-python",
   "name": "python",
   "nbconvert_exporter": "python",
   "pygments_lexer": "ipython3",
   "version": "3.10.10"
  }
 },
 "nbformat": 4,
 "nbformat_minor": 5
}
