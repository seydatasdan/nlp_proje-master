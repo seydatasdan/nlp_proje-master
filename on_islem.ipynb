{
 "cells": [
  {
   "cell_type": "code",
   "execution_count": 1,
   "id": "a21468c7-165a-4ee6-b50f-688af64364b4",
   "metadata": {},
   "outputs": [],
   "source": [
    "import pandas as pd\n",
    "import re\n",
    "import snowballstemmer"
   ]
  },
  {
   "cell_type": "code",
   "execution_count": 2,
   "id": "2ddb4885-0981-4a3d-b4fa-f6aa38458f89",
   "metadata": {},
   "outputs": [
    {
     "data": {
      "text/html": [
       "<div>\n",
       "<style scoped>\n",
       "    .dataframe tbody tr th:only-of-type {\n",
       "        vertical-align: middle;\n",
       "    }\n",
       "\n",
       "    .dataframe tbody tr th {\n",
       "        vertical-align: top;\n",
       "    }\n",
       "\n",
       "    .dataframe thead th {\n",
       "        text-align: right;\n",
       "    }\n",
       "</style>\n",
       "<table border=\"1\" class=\"dataframe\">\n",
       "  <thead>\n",
       "    <tr style=\"text-align: right;\">\n",
       "      <th></th>\n",
       "      <th>Text</th>\n",
       "      <th>Label</th>\n",
       "    </tr>\n",
       "  </thead>\n",
       "  <tbody>\n",
       "    <tr>\n",
       "      <th>0</th>\n",
       "      <td>turkcellmüzik biraz daha gelişsin fizy yi tama...</td>\n",
       "      <td>1</td>\n",
       "    </tr>\n",
       "    <tr>\n",
       "      <th>1</th>\n",
       "      <td>hayat paylaşınca güzel...türkcell...</td>\n",
       "      <td>1</td>\n",
       "    </tr>\n",
       "    <tr>\n",
       "      <th>2</th>\n",
       "      <td>superonline varya daha iyi</td>\n",
       "      <td>1</td>\n",
       "    </tr>\n",
       "    <tr>\n",
       "      <th>3</th>\n",
       "      <td>hahaha kanka turkcell bu 4 ceker :d</td>\n",
       "      <td>1</td>\n",
       "    </tr>\n",
       "    <tr>\n",
       "      <th>4</th>\n",
       "      <td>turkcell 3 tl hediye etse bana ne güzel olur =)</td>\n",
       "      <td>1</td>\n",
       "    </tr>\n",
       "    <tr>\n",
       "      <th>...</th>\n",
       "      <td>...</td>\n",
       "      <td>...</td>\n",
       "    </tr>\n",
       "    <tr>\n",
       "      <th>2995</th>\n",
       "      <td>gördüğüm en adi şerefsiz kurumsunuz</td>\n",
       "      <td>2</td>\n",
       "    </tr>\n",
       "    <tr>\n",
       "      <th>2996</th>\n",
       "      <td>#turkcell seni de ben boykot edicem.</td>\n",
       "      <td>2</td>\n",
       "    </tr>\n",
       "    <tr>\n",
       "      <th>2997</th>\n",
       "      <td>diğer hatların çekmediği yerde çeken her hattı...</td>\n",
       "      <td>2</td>\n",
       "    </tr>\n",
       "    <tr>\n",
       "      <th>2998</th>\n",
       "      <td>sanirim 3g baglanti sorunu var, surekli edge o...</td>\n",
       "      <td>2</td>\n",
       "    </tr>\n",
       "    <tr>\n",
       "      <th>2999</th>\n",
       "      <td>besiktas metropol subeniz oldukca ukela bu tur...</td>\n",
       "      <td>2</td>\n",
       "    </tr>\n",
       "  </tbody>\n",
       "</table>\n",
       "<p>3000 rows × 2 columns</p>\n",
       "</div>"
      ],
      "text/plain": [
       "                                                   Text  Label\n",
       "0     turkcellmüzik biraz daha gelişsin fizy yi tama...      1\n",
       "1                  hayat paylaşınca güzel...türkcell...      1\n",
       "2                            superonline varya daha iyi      1\n",
       "3                   hahaha kanka turkcell bu 4 ceker :d      1\n",
       "4       turkcell 3 tl hediye etse bana ne güzel olur =)      1\n",
       "...                                                 ...    ...\n",
       "2995                gördüğüm en adi şerefsiz kurumsunuz      2\n",
       "2996               #turkcell seni de ben boykot edicem.      2\n",
       "2997  diğer hatların çekmediği yerde çeken her hattı...      2\n",
       "2998  sanirim 3g baglanti sorunu var, surekli edge o...      2\n",
       "2999  besiktas metropol subeniz oldukca ukela bu tur...      2\n",
       "\n",
       "[3000 rows x 2 columns]"
      ]
     },
     "execution_count": 2,
     "metadata": {},
     "output_type": "execute_result"
    }
   ],
   "source": [
    "df = pd.read_csv(\"data/nlp_proje_metin_siniflandirma.csv\",index_col=0)\n",
    "df"
   ]
  },
  {
   "cell_type": "code",
   "execution_count": 3,
   "id": "4f85a555-e114-49eb-b9e8-cc65e92f08d1",
   "metadata": {},
   "outputs": [
    {
     "data": {
      "text/html": [
       "<div>\n",
       "<style scoped>\n",
       "    .dataframe tbody tr th:only-of-type {\n",
       "        vertical-align: middle;\n",
       "    }\n",
       "\n",
       "    .dataframe tbody tr th {\n",
       "        vertical-align: top;\n",
       "    }\n",
       "\n",
       "    .dataframe thead th {\n",
       "        text-align: right;\n",
       "    }\n",
       "</style>\n",
       "<table border=\"1\" class=\"dataframe\">\n",
       "  <thead>\n",
       "    <tr style=\"text-align: right;\">\n",
       "      <th></th>\n",
       "      <th>Text</th>\n",
       "      <th>Label</th>\n",
       "    </tr>\n",
       "  </thead>\n",
       "  <tbody>\n",
       "    <tr>\n",
       "      <th>0</th>\n",
       "      <td>turkcellmüzik biraz daha gelişsin fizy yi tama...</td>\n",
       "      <td>1</td>\n",
       "    </tr>\n",
       "    <tr>\n",
       "      <th>1</th>\n",
       "      <td>hayat paylaşınca güzel...türkcell...</td>\n",
       "      <td>1</td>\n",
       "    </tr>\n",
       "    <tr>\n",
       "      <th>2</th>\n",
       "      <td>superonline varya daha iyi</td>\n",
       "      <td>1</td>\n",
       "    </tr>\n",
       "    <tr>\n",
       "      <th>3</th>\n",
       "      <td>hahaha kanka turkcell bu 4 ceker :d</td>\n",
       "      <td>1</td>\n",
       "    </tr>\n",
       "    <tr>\n",
       "      <th>4</th>\n",
       "      <td>turkcell 3 tl hediye etse bana ne güzel olur =)</td>\n",
       "      <td>1</td>\n",
       "    </tr>\n",
       "  </tbody>\n",
       "</table>\n",
       "</div>"
      ],
      "text/plain": [
       "                                                Text  Label\n",
       "0  turkcellmüzik biraz daha gelişsin fizy yi tama...      1\n",
       "1               hayat paylaşınca güzel...türkcell...      1\n",
       "2                         superonline varya daha iyi      1\n",
       "3                hahaha kanka turkcell bu 4 ceker :d      1\n",
       "4    turkcell 3 tl hediye etse bana ne güzel olur =)      1"
      ]
     },
     "execution_count": 3,
     "metadata": {},
     "output_type": "execute_result"
    }
   ],
   "source": [
    "df.head()"
   ]
  },
  {
   "cell_type": "code",
   "execution_count": 4,
   "id": "e181bdce-dfc0-4e0d-8c18-281c8c39b4b6",
   "metadata": {},
   "outputs": [
    {
     "data": {
      "text/html": [
       "<div>\n",
       "<style scoped>\n",
       "    .dataframe tbody tr th:only-of-type {\n",
       "        vertical-align: middle;\n",
       "    }\n",
       "\n",
       "    .dataframe tbody tr th {\n",
       "        vertical-align: top;\n",
       "    }\n",
       "\n",
       "    .dataframe thead th {\n",
       "        text-align: right;\n",
       "    }\n",
       "</style>\n",
       "<table border=\"1\" class=\"dataframe\">\n",
       "  <thead>\n",
       "    <tr style=\"text-align: right;\">\n",
       "      <th></th>\n",
       "      <th>Text</th>\n",
       "      <th>Label</th>\n",
       "    </tr>\n",
       "  </thead>\n",
       "  <tbody>\n",
       "    <tr>\n",
       "      <th>2995</th>\n",
       "      <td>gördüğüm en adi şerefsiz kurumsunuz</td>\n",
       "      <td>2</td>\n",
       "    </tr>\n",
       "    <tr>\n",
       "      <th>2996</th>\n",
       "      <td>#turkcell seni de ben boykot edicem.</td>\n",
       "      <td>2</td>\n",
       "    </tr>\n",
       "    <tr>\n",
       "      <th>2997</th>\n",
       "      <td>diğer hatların çekmediği yerde çeken her hattı...</td>\n",
       "      <td>2</td>\n",
       "    </tr>\n",
       "    <tr>\n",
       "      <th>2998</th>\n",
       "      <td>sanirim 3g baglanti sorunu var, surekli edge o...</td>\n",
       "      <td>2</td>\n",
       "    </tr>\n",
       "    <tr>\n",
       "      <th>2999</th>\n",
       "      <td>besiktas metropol subeniz oldukca ukela bu tur...</td>\n",
       "      <td>2</td>\n",
       "    </tr>\n",
       "  </tbody>\n",
       "</table>\n",
       "</div>"
      ],
      "text/plain": [
       "                                                   Text  Label\n",
       "2995                gördüğüm en adi şerefsiz kurumsunuz      2\n",
       "2996               #turkcell seni de ben boykot edicem.      2\n",
       "2997  diğer hatların çekmediği yerde çeken her hattı...      2\n",
       "2998  sanirim 3g baglanti sorunu var, surekli edge o...      2\n",
       "2999  besiktas metropol subeniz oldukca ukela bu tur...      2"
      ]
     },
     "execution_count": 4,
     "metadata": {},
     "output_type": "execute_result"
    }
   ],
   "source": [
    "df.tail()"
   ]
  },
  {
   "cell_type": "code",
   "execution_count": 28,
   "id": "010803cf-f039-4ccb-bd37-c0b66bd2de38",
   "metadata": {},
   "outputs": [],
   "source": [
    "df[\"Text\"] = df[\"Text\"].astype(str)"
   ]
  },
  {
   "cell_type": "code",
   "execution_count": 6,
   "id": "1241eccd-3c3a-45ef-9767-313523c2bdf0",
   "metadata": {},
   "outputs": [
    {
     "data": {
      "text/plain": [
       "'evde superonline var buraya bekleriz'"
      ]
     },
     "execution_count": 6,
     "metadata": {},
     "output_type": "execute_result"
    }
   ],
   "source": [
    "df.loc[150,\"Text\"]"
   ]
  },
  {
   "cell_type": "code",
   "execution_count": 7,
   "id": "dd3c9d33-6f4e-4609-ab32-da0cadb69e8c",
   "metadata": {},
   "outputs": [
    {
     "name": "stdout",
     "output_type": "stream",
     "text": [
      "Requirement already satisfied: snowballstemmer in c:\\users\\ozayb\\miniconda3\\lib\\site-packages (2.2.0)\n",
      "Note: you may need to restart the kernel to use updated packages.\n"
     ]
    }
   ],
   "source": [
    "pip install snowballstemmer"
   ]
  },
  {
   "cell_type": "code",
   "execution_count": 8,
   "id": "2f3a2999-4f30-44d2-8d0e-0b0f065e9204",
   "metadata": {},
   "outputs": [],
   "source": [
    "# emojilerin kaldırılması\n",
    "def remove_emoji(value):\n",
    "    bfr=re.compile(\"[\\U00010000-\\U0010ffff]\",flags=re.UNICODE)\n",
    "    bfr=bfr.sub(r'',value)\n",
    "    return bfr"
   ]
  },
  {
   "cell_type": "code",
   "execution_count": 9,
   "id": "7fa29e45-fe36-47b7-9388-aeedbe00032f",
   "metadata": {},
   "outputs": [],
   "source": [
    "#linklerin kaldırılması \n",
    "def remove_link(value):\n",
    "    return re.sub('((www\\.[^\\s]+)|(https?://[^\\s]+))','',value)"
   ]
  },
  {
   "cell_type": "code",
   "execution_count": 10,
   "id": "03a0fdc7-6286-46f6-a311-1ecb729439ae",
   "metadata": {},
   "outputs": [],
   "source": [
    "# numerik karakterlerin kaldırılması\n",
    "def remove_numeric(value):\n",
    "    bfr= [item for item in value if not item.isdigit()]\n",
    "    bfr = \"\".join(bfr)\n",
    "    return bfr "
   ]
  },
  {
   "cell_type": "code",
   "execution_count": 11,
   "id": "2f461f22-272d-4d8f-b52a-348ac426725a",
   "metadata": {},
   "outputs": [],
   "source": [
    "def remove_hashtag(value):\n",
    "    if not isinstance(value, (str, bytes)):\n",
    "        raise TypeError(\"value parametresi bir dize veya bayt benzeri nesne olmalıdır.\")\n",
    "    return re.sub(r'#[^\\s]+', '', value)"
   ]
  },
  {
   "cell_type": "code",
   "execution_count": 12,
   "id": "20158b66-da7b-4d98-a5ca-48c01a0df36f",
   "metadata": {},
   "outputs": [],
   "source": [
    "# hashtaglerin kaldırılması\n",
    "def remove_hashtag(value):\n",
    "    return re.sub(r'#[^\\s]+','',value)"
   ]
  },
  {
   "cell_type": "code",
   "execution_count": 13,
   "id": "d7216069-63fd-48e4-878e-f51918230ce9",
   "metadata": {},
   "outputs": [],
   "source": [
    "#noktalama işaretlerinin kaldırılması\n",
    "def remove_noktalama(value):\n",
    "    return re.sub(r'[^\\w\\s]','',value) "
   ]
  },
  {
   "cell_type": "code",
   "execution_count": 14,
   "id": "e9d5f256-2ded-41e0-89ff-59498dc09bd6",
   "metadata": {},
   "outputs": [],
   "source": [
    "#tek karakterli ifadelerin kaldırılması\n",
    "def remove_single_character(value):\n",
    "    return re.sub(r'(?:^| )\\w(?:$| )','',value)"
   ]
  },
  {
   "cell_type": "code",
   "execution_count": 15,
   "id": "45ea5972-968d-4d55-bd87-c9a71913c855",
   "metadata": {},
   "outputs": [],
   "source": [
    "# kullanıcı adlarının kaldırılması\n",
    "def remove_username(value):\n",
    "    return re.sub('@[^\\s]+','',value)"
   ]
  },
  {
   "cell_type": "code",
   "execution_count": 16,
   "id": "5945ed97-7f4b-400b-ae65-e615f69ca6e9",
   "metadata": {},
   "outputs": [],
   "source": [
    "#kök indirgeme ve stop words işlemleri\n",
    "import snowballstemmer\n",
    "def stem_word(value):\n",
    "    stemmer= snowballstemmer.stemmer(\"turkish\")\n",
    "    value = value.lower()\n",
    "    value=stemmer.stemWords(value.split())\n",
    "    stop_words= ['bence','a','acaba','altı','altmış','ama','ancak','arada','artık','asla','aslında','ayrıca','az',\n",
    "                 'bana','bazen','bazı','bile','biraz','bu','bunu','bunun','çoğu','çoğunu','çok','çünkü',\n",
    "                 'da','daha','de','ise','defa','diye','gibi','en','kim','mı','mi','mu','mü','bir','iki',\n",
    "                 'üç','dört','beş','altı','yedi','sekiz','dokuz','on','niçin','niye','şey','siz','şu',\n",
    "                'her','hiç','ve','veya','ya','yani','ne','neden']\n",
    "    value= [item for item in value if not item in stop_words]\n",
    "    value=' ' .join(value)\n",
    "    return value"
   ]
  },
  {
   "cell_type": "code",
   "execution_count": 17,
   "id": "4d5281e2-6196-4ab1-919e-88e36d2ba536",
   "metadata": {},
   "outputs": [],
   "source": [
    "# ön işlem fonksiyonlarının sırayla çağırılması\n",
    "def pre_processing(value):\n",
    "    return [(remove_emoji(remove_link\n",
    "                          (remove_numeric\n",
    "                           (remove_hashtag\n",
    "                            (remove_noktalama\n",
    "                             (remove_single_character\n",
    "                              (remove_username\n",
    "                               (stem_word(word))))))))) for word in value.split()]"
   ]
  },
  {
   "cell_type": "code",
   "execution_count": 18,
   "id": "afdf92f1-895b-4d4f-bf49-15a1cf3d5bc6",
   "metadata": {},
   "outputs": [
    {
     "data": {
      "text/plain": [
       "'evde superonline var buraya bekleriz'"
      ]
     },
     "execution_count": 18,
     "metadata": {},
     "output_type": "execute_result"
    }
   ],
   "source": [
    "df.loc[150,\"Text\"]"
   ]
  },
  {
   "cell_type": "code",
   "execution_count": 19,
   "id": "77c83003-b8c6-4833-ab88-5a670dbcd8f5",
   "metadata": {},
   "outputs": [
    {
     "data": {
      "text/html": [
       "<div>\n",
       "<style scoped>\n",
       "    .dataframe tbody tr th:only-of-type {\n",
       "        vertical-align: middle;\n",
       "    }\n",
       "\n",
       "    .dataframe tbody tr th {\n",
       "        vertical-align: top;\n",
       "    }\n",
       "\n",
       "    .dataframe thead th {\n",
       "        text-align: right;\n",
       "    }\n",
       "</style>\n",
       "<table border=\"1\" class=\"dataframe\">\n",
       "  <thead>\n",
       "    <tr style=\"text-align: right;\">\n",
       "      <th></th>\n",
       "      <th>Text</th>\n",
       "      <th>Label</th>\n",
       "      <th>Text_2</th>\n",
       "    </tr>\n",
       "  </thead>\n",
       "  <tbody>\n",
       "    <tr>\n",
       "      <th>0</th>\n",
       "      <td>turkcellmüzik biraz daha gelişsin fizy yi tama...</td>\n",
       "      <td>1</td>\n",
       "      <td>[turkcellmüzik, , dah, geliş, fizy, yi, tamame...</td>\n",
       "    </tr>\n",
       "    <tr>\n",
       "      <th>1</th>\n",
       "      <td>hayat paylaşınca güzel...türkcell...</td>\n",
       "      <td>1</td>\n",
       "      <td>[hayat, paylaş, güzeltürkcell]</td>\n",
       "    </tr>\n",
       "    <tr>\n",
       "      <th>2</th>\n",
       "      <td>superonline varya daha iyi</td>\n",
       "      <td>1</td>\n",
       "      <td>[superonl, varya, dah, ]</td>\n",
       "    </tr>\n",
       "    <tr>\n",
       "      <th>3</th>\n",
       "      <td>hahaha kanka turkcell bu 4 ceker :d</td>\n",
       "      <td>1</td>\n",
       "      <td>[hahah, kanka, turkcell, , , ceker, d]</td>\n",
       "    </tr>\n",
       "    <tr>\n",
       "      <th>4</th>\n",
       "      <td>turkcell 3 tl hediye etse bana ne güzel olur =)</td>\n",
       "      <td>1</td>\n",
       "      <td>[turkcell, , tl, hedi, et, ba, , güzel, olur, ]</td>\n",
       "    </tr>\n",
       "  </tbody>\n",
       "</table>\n",
       "</div>"
      ],
      "text/plain": [
       "                                                Text  Label   \n",
       "0  turkcellmüzik biraz daha gelişsin fizy yi tama...      1  \\\n",
       "1               hayat paylaşınca güzel...türkcell...      1   \n",
       "2                         superonline varya daha iyi      1   \n",
       "3                hahaha kanka turkcell bu 4 ceker :d      1   \n",
       "4    turkcell 3 tl hediye etse bana ne güzel olur =)      1   \n",
       "\n",
       "                                              Text_2  \n",
       "0  [turkcellmüzik, , dah, geliş, fizy, yi, tamame...  \n",
       "1                     [hayat, paylaş, güzeltürkcell]  \n",
       "2                           [superonl, varya, dah, ]  \n",
       "3             [hahah, kanka, turkcell, , , ceker, d]  \n",
       "4    [turkcell, , tl, hedi, et, ba, , güzel, olur, ]  "
      ]
     },
     "execution_count": 19,
     "metadata": {},
     "output_type": "execute_result"
    }
   ],
   "source": [
    "df[\"Text_2\"] = df[\"Text\"].apply(pre_processing)\n",
    "df.head()"
   ]
  },
  {
   "cell_type": "code",
   "execution_count": 20,
   "id": "7ef446e9-0d98-4414-82be-b77a0550b96c",
   "metadata": {},
   "outputs": [
    {
     "data": {
      "text/plain": [
       "['turkcellmüzik',\n",
       " '',\n",
       " 'dah',\n",
       " 'geliş',\n",
       " 'fizy',\n",
       " 'yi',\n",
       " 'tamame',\n",
       " 'bırakıca',\n",
       " 'söz']"
      ]
     },
     "execution_count": 20,
     "metadata": {},
     "output_type": "execute_result"
    }
   ],
   "source": [
    "df.loc[0,\"Text_2\"]"
   ]
  },
  {
   "cell_type": "code",
   "execution_count": 21,
   "id": "e8e2ff76-461d-4de2-8d47-64917364061e",
   "metadata": {},
   "outputs": [],
   "source": [
    "#boşlukların kaldırılması\n",
    "def remove_space(value):\n",
    "    return[item for item in value if item.strip()]\n",
    "\n",
    "df[\"Text_2\"]=df[\"Text_2\"].apply(remove_space) "
   ]
  },
  {
   "cell_type": "code",
   "execution_count": 22,
   "id": "efe0daf7-56d2-4a62-a008-b7f86cb6c103",
   "metadata": {},
   "outputs": [
    {
     "data": {
      "text/plain": [
       "['turkcellmüzik', 'dah', 'geliş', 'fizy', 'yi', 'tamame', 'bırakıca', 'söz']"
      ]
     },
     "execution_count": 22,
     "metadata": {},
     "output_type": "execute_result"
    }
   ],
   "source": [
    "df.loc[0,\"Text_2\"]"
   ]
  },
  {
   "cell_type": "code",
   "execution_count": 23,
   "id": "efc7ce29-cc1a-4134-b720-0e280132405d",
   "metadata": {},
   "outputs": [
    {
     "data": {
      "text/html": [
       "<div>\n",
       "<style scoped>\n",
       "    .dataframe tbody tr th:only-of-type {\n",
       "        vertical-align: middle;\n",
       "    }\n",
       "\n",
       "    .dataframe tbody tr th {\n",
       "        vertical-align: top;\n",
       "    }\n",
       "\n",
       "    .dataframe thead th {\n",
       "        text-align: right;\n",
       "    }\n",
       "</style>\n",
       "<table border=\"1\" class=\"dataframe\">\n",
       "  <thead>\n",
       "    <tr style=\"text-align: right;\">\n",
       "      <th></th>\n",
       "      <th>Text</th>\n",
       "      <th>Label</th>\n",
       "      <th>Text_2</th>\n",
       "    </tr>\n",
       "  </thead>\n",
       "  <tbody>\n",
       "    <tr>\n",
       "      <th>0</th>\n",
       "      <td>turkcellmüzik biraz daha gelişsin fizy yi tama...</td>\n",
       "      <td>1</td>\n",
       "      <td>[turkcellmüzik, dah, geliş, fizy, yi, tamame, ...</td>\n",
       "    </tr>\n",
       "    <tr>\n",
       "      <th>1</th>\n",
       "      <td>hayat paylaşınca güzel...türkcell...</td>\n",
       "      <td>1</td>\n",
       "      <td>[hayat, paylaş, güzeltürkcell]</td>\n",
       "    </tr>\n",
       "    <tr>\n",
       "      <th>2</th>\n",
       "      <td>superonline varya daha iyi</td>\n",
       "      <td>1</td>\n",
       "      <td>[superonl, varya, dah]</td>\n",
       "    </tr>\n",
       "    <tr>\n",
       "      <th>3</th>\n",
       "      <td>hahaha kanka turkcell bu 4 ceker :d</td>\n",
       "      <td>1</td>\n",
       "      <td>[hahah, kanka, turkcell, ceker, d]</td>\n",
       "    </tr>\n",
       "    <tr>\n",
       "      <th>4</th>\n",
       "      <td>turkcell 3 tl hediye etse bana ne güzel olur =)</td>\n",
       "      <td>1</td>\n",
       "      <td>[turkcell, tl, hedi, et, ba, güzel, olur]</td>\n",
       "    </tr>\n",
       "  </tbody>\n",
       "</table>\n",
       "</div>"
      ],
      "text/plain": [
       "                                                Text  Label   \n",
       "0  turkcellmüzik biraz daha gelişsin fizy yi tama...      1  \\\n",
       "1               hayat paylaşınca güzel...türkcell...      1   \n",
       "2                         superonline varya daha iyi      1   \n",
       "3                hahaha kanka turkcell bu 4 ceker :d      1   \n",
       "4    turkcell 3 tl hediye etse bana ne güzel olur =)      1   \n",
       "\n",
       "                                              Text_2  \n",
       "0  [turkcellmüzik, dah, geliş, fizy, yi, tamame, ...  \n",
       "1                     [hayat, paylaş, güzeltürkcell]  \n",
       "2                             [superonl, varya, dah]  \n",
       "3                 [hahah, kanka, turkcell, ceker, d]  \n",
       "4          [turkcell, tl, hedi, et, ba, güzel, olur]  "
      ]
     },
     "execution_count": 23,
     "metadata": {},
     "output_type": "execute_result"
    }
   ],
   "source": [
    "df.head()"
   ]
  },
  {
   "cell_type": "code",
   "execution_count": 25,
   "id": "77ed3de6-6a3b-4d1b-8e2f-5711814a5917",
   "metadata": {},
   "outputs": [],
   "source": [
    "import on_islem\n",
    "import pandas as pd"
   ]
  },
  {
   "cell_type": "code",
   "execution_count": 26,
   "id": "c3e498c7-2e8d-4417-a8db-5584a0fa3dd2",
   "metadata": {},
   "outputs": [
    {
     "data": {
      "text/html": [
       "<div>\n",
       "<style scoped>\n",
       "    .dataframe tbody tr th:only-of-type {\n",
       "        vertical-align: middle;\n",
       "    }\n",
       "\n",
       "    .dataframe tbody tr th {\n",
       "        vertical-align: top;\n",
       "    }\n",
       "\n",
       "    .dataframe thead th {\n",
       "        text-align: right;\n",
       "    }\n",
       "</style>\n",
       "<table border=\"1\" class=\"dataframe\">\n",
       "  <thead>\n",
       "    <tr style=\"text-align: right;\">\n",
       "      <th></th>\n",
       "      <th>Text</th>\n",
       "      <th>Label</th>\n",
       "    </tr>\n",
       "  </thead>\n",
       "  <tbody>\n",
       "    <tr>\n",
       "      <th>0</th>\n",
       "      <td>turkcellmüzik biraz daha gelişsin fizy yi tama...</td>\n",
       "      <td>1</td>\n",
       "    </tr>\n",
       "    <tr>\n",
       "      <th>1</th>\n",
       "      <td>hayat paylaşınca güzel...türkcell...</td>\n",
       "      <td>1</td>\n",
       "    </tr>\n",
       "    <tr>\n",
       "      <th>2</th>\n",
       "      <td>superonline varya daha iyi</td>\n",
       "      <td>1</td>\n",
       "    </tr>\n",
       "    <tr>\n",
       "      <th>3</th>\n",
       "      <td>hahaha kanka turkcell bu 4 ceker :d</td>\n",
       "      <td>1</td>\n",
       "    </tr>\n",
       "    <tr>\n",
       "      <th>4</th>\n",
       "      <td>turkcell 3 tl hediye etse bana ne güzel olur =)</td>\n",
       "      <td>1</td>\n",
       "    </tr>\n",
       "  </tbody>\n",
       "</table>\n",
       "</div>"
      ],
      "text/plain": [
       "                                                Text  Label\n",
       "0  turkcellmüzik biraz daha gelişsin fizy yi tama...      1\n",
       "1               hayat paylaşınca güzel...türkcell...      1\n",
       "2                         superonline varya daha iyi      1\n",
       "3                hahaha kanka turkcell bu 4 ceker :d      1\n",
       "4    turkcell 3 tl hediye etse bana ne güzel olur =)      1"
      ]
     },
     "execution_count": 26,
     "metadata": {},
     "output_type": "execute_result"
    }
   ],
   "source": [
    "df = pd.read_csv(\"data/nlp_proje_metin_siniflandirma.csv\",index_col=0)\n",
    "df.head()"
   ]
  },
  {
   "cell_type": "code",
   "execution_count": 29,
   "id": "49f5c235-aaef-4960-84fc-67f66f8132b9",
   "metadata": {},
   "outputs": [
    {
     "data": {
      "text/html": [
       "<div>\n",
       "<style scoped>\n",
       "    .dataframe tbody tr th:only-of-type {\n",
       "        vertical-align: middle;\n",
       "    }\n",
       "\n",
       "    .dataframe tbody tr th {\n",
       "        vertical-align: top;\n",
       "    }\n",
       "\n",
       "    .dataframe thead th {\n",
       "        text-align: right;\n",
       "    }\n",
       "</style>\n",
       "<table border=\"1\" class=\"dataframe\">\n",
       "  <thead>\n",
       "    <tr style=\"text-align: right;\">\n",
       "      <th></th>\n",
       "      <th>Text</th>\n",
       "      <th>Label</th>\n",
       "      <th>Text_2</th>\n",
       "    </tr>\n",
       "  </thead>\n",
       "  <tbody>\n",
       "    <tr>\n",
       "      <th>0</th>\n",
       "      <td>turkcellmüzik biraz daha gelişsin fizy yi tama...</td>\n",
       "      <td>1</td>\n",
       "      <td>[turkcellmüzik, dah, geliş, fizy, yi, tamame, ...</td>\n",
       "    </tr>\n",
       "    <tr>\n",
       "      <th>1</th>\n",
       "      <td>hayat paylaşınca güzel...türkcell...</td>\n",
       "      <td>1</td>\n",
       "      <td>[hayat, paylaş, güzeltürkcell]</td>\n",
       "    </tr>\n",
       "    <tr>\n",
       "      <th>2</th>\n",
       "      <td>superonline varya daha iyi</td>\n",
       "      <td>1</td>\n",
       "      <td>[superonl, varya, dah]</td>\n",
       "    </tr>\n",
       "    <tr>\n",
       "      <th>3</th>\n",
       "      <td>hahaha kanka turkcell bu 4 ceker :d</td>\n",
       "      <td>1</td>\n",
       "      <td>[hahah, kanka, turkcell, ceker]</td>\n",
       "    </tr>\n",
       "    <tr>\n",
       "      <th>4</th>\n",
       "      <td>turkcell 3 tl hediye etse bana ne güzel olur =)</td>\n",
       "      <td>1</td>\n",
       "      <td>[turkcell, tl, hedi, et, ba, güzel, olur]</td>\n",
       "    </tr>\n",
       "  </tbody>\n",
       "</table>\n",
       "</div>"
      ],
      "text/plain": [
       "                                                Text  Label   \n",
       "0  turkcellmüzik biraz daha gelişsin fizy yi tama...      1  \\\n",
       "1               hayat paylaşınca güzel...türkcell...      1   \n",
       "2                         superonline varya daha iyi      1   \n",
       "3                hahaha kanka turkcell bu 4 ceker :d      1   \n",
       "4    turkcell 3 tl hediye etse bana ne güzel olur =)      1   \n",
       "\n",
       "                                              Text_2  \n",
       "0  [turkcellmüzik, dah, geliş, fizy, yi, tamame, ...  \n",
       "1                     [hayat, paylaş, güzeltürkcell]  \n",
       "2                             [superonl, varya, dah]  \n",
       "3                    [hahah, kanka, turkcell, ceker]  \n",
       "4          [turkcell, tl, hedi, et, ba, güzel, olur]  "
      ]
     },
     "execution_count": 29,
     "metadata": {},
     "output_type": "execute_result"
    }
   ],
   "source": [
    "df[\"Text_2\"] = df[\"Text\"].apply(on_islem.pre_processing)\n",
    "df[\"Text_2\"] = df[\"Text_2\"].apply(on_islem.remove_space)\n",
    "df.head()"
   ]
  }
 ],
 "metadata": {
  "kernelspec": {
   "display_name": "Python 3 (ipykernel)",
   "language": "python",
   "name": "python3"
  },
  "language_info": {
   "codemirror_mode": {
    "name": "ipython",
    "version": 3
   },
   "file_extension": ".py",
   "mimetype": "text/x-python",
   "name": "python",
   "nbconvert_exporter": "python",
   "pygments_lexer": "ipython3",
   "version": "3.10.10"
  }
 },
 "nbformat": 4,
 "nbformat_minor": 5
}
